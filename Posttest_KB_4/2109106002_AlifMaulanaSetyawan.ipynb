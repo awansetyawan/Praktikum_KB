{
 "cells": [
  {
   "cell_type": "markdown",
   "id": "f8452f1b-719a-4507-90a0-f62b66c0fdbe",
   "metadata": {},
   "source": [
    "# Posttest 4"
   ]
  },
  {
   "cell_type": "markdown",
   "id": "a57dd246-6b85-46be-a731-72a6591d20d0",
   "metadata": {},
   "source": [
    "<pre>Nama  : Alif Maulana Setyawan\n",
    "NIM   : 2109106002\n",
    "Kelas : A1 Informatika 2021"
   ]
  },
  {
   "cell_type": "markdown",
   "id": "b1ec0717-0837-4360-bd6c-0c6c1cedb0e3",
   "metadata": {},
   "source": [
    "### Import Library"
   ]
  },
  {
   "cell_type": "code",
   "execution_count": 1,
   "id": "50e2ea53-9241-4097-92b4-25d4ad17035f",
   "metadata": {},
   "outputs": [],
   "source": [
    "import numpy as np\n",
    "import pandas as pd\n",
    "from sklearn.preprocessing import MinMaxScaler, StandardScaler, OneHotEncoder\n",
    "from sklearn.model_selection import train_test_split\n",
    "from sklearn.impute import SimpleImputer"
   ]
  },
  {
   "cell_type": "markdown",
   "id": "33b19c29-7d16-4dc4-ba96-9c7c0349d3f8",
   "metadata": {},
   "source": [
    "### Info Data"
   ]
  },
  {
   "cell_type": "code",
   "execution_count": 2,
   "id": "cf80b0b0-6884-49ed-898a-df777650f7dd",
   "metadata": {},
   "outputs": [
    {
     "name": "stdout",
     "output_type": "stream",
     "text": [
      "<class 'pandas.core.frame.DataFrame'>\n",
      "RangeIndex: 504 entries, 0 to 503\n",
      "Data columns (total 9 columns):\n",
      " #   Column                Non-Null Count  Dtype  \n",
      "---  ------                --------------  -----  \n",
      " 0   IdNo                  504 non-null    int64  \n",
      " 1   TotalMoney            504 non-null    float64\n",
      " 2   GameName              504 non-null    object \n",
      " 3   Genre                 504 non-null    object \n",
      " 4   PlayerNo              504 non-null    int64  \n",
      " 5   TournamentNo          504 non-null    int64  \n",
      " 6   Top_Country           504 non-null    object \n",
      " 7   Top_Country_Earnings  504 non-null    float64\n",
      " 8   Releaseyear           504 non-null    int64  \n",
      "dtypes: float64(2), int64(4), object(3)\n",
      "memory usage: 35.6+ KB\n"
     ]
    }
   ],
   "source": [
    "data = pd.read_csv(\"ESport_Earnings.csv\")\n",
    "\n",
    "data.info()"
   ]
  },
  {
   "cell_type": "code",
   "execution_count": 3,
   "id": "0f4f4ffb-b45c-4393-9864-db7cd1727308",
   "metadata": {},
   "outputs": [
    {
     "data": {
      "text/plain": [
       "(504, 9)"
      ]
     },
     "execution_count": 3,
     "metadata": {},
     "output_type": "execute_result"
    }
   ],
   "source": [
    "data.shape"
   ]
  },
  {
   "cell_type": "markdown",
   "id": "7014654a-6f77-4f30-92b5-da682a1d9748",
   "metadata": {},
   "source": [
    "### Split Data 70:30"
   ]
  },
  {
   "cell_type": "code",
   "execution_count": 4,
   "id": "848b3d71-c065-4b77-8312-2aa12bcc519d",
   "metadata": {},
   "outputs": [
    {
     "name": "stdout",
     "output_type": "stream",
     "text": [
      "Dimensi X_train (352, 8)\n",
      "Dimensi X_test (152, 8)\n",
      "Dimensi y_train (352,)\n",
      "Dimensi y_test (152,)\n"
     ]
    }
   ],
   "source": [
    "X = data.iloc[:, : -1]\n",
    "y = data.iloc[:, -1]\n",
    "\n",
    "X_train, X_test, y_train, y_test = train_test_split(X, y, test_size=0.3)\n",
    "\n",
    "print(\"Dimensi X_train\", X_train.shape)\n",
    "print(\"Dimensi X_test\", X_test.shape)\n",
    "print(\"Dimensi y_train\", y_train.shape)\n",
    "print(\"Dimensi y_test\", y_test.shape)"
   ]
  },
  {
   "cell_type": "markdown",
   "id": "511d745e-5503-4684-be19-ed0f5edca48e",
   "metadata": {},
   "source": [
    "### Data Cleaning"
   ]
  },
  {
   "cell_type": "code",
   "execution_count": 5,
   "id": "8c9ed6c7-1c49-4be6-a4ea-63891ce4184b",
   "metadata": {},
   "outputs": [
    {
     "data": {
      "text/plain": [
       "IdNo                    0\n",
       "TotalMoney              0\n",
       "GameName                0\n",
       "Genre                   0\n",
       "PlayerNo                0\n",
       "TournamentNo            0\n",
       "Top_Country             0\n",
       "Top_Country_Earnings    0\n",
       "Releaseyear             0\n",
       "dtype: int64"
      ]
     },
     "execution_count": 5,
     "metadata": {},
     "output_type": "execute_result"
    }
   ],
   "source": [
    "data.isna().sum()"
   ]
  },
  {
   "cell_type": "markdown",
   "id": "619e0d25-4ee8-4e8a-ba0f-588eba028d2a",
   "metadata": {},
   "source": [
    "##### Karena Data tidak ada yang bernilai null maka dibuat"
   ]
  },
  {
   "cell_type": "code",
   "execution_count": 6,
   "id": "edc00fc3-f66e-4758-9008-cf1a1fdce213",
   "metadata": {},
   "outputs": [
    {
     "data": {
      "text/html": [
       "<div>\n",
       "<style scoped>\n",
       "    .dataframe tbody tr th:only-of-type {\n",
       "        vertical-align: middle;\n",
       "    }\n",
       "\n",
       "    .dataframe tbody tr th {\n",
       "        vertical-align: top;\n",
       "    }\n",
       "\n",
       "    .dataframe thead th {\n",
       "        text-align: right;\n",
       "    }\n",
       "</style>\n",
       "<table border=\"1\" class=\"dataframe\">\n",
       "  <thead>\n",
       "    <tr style=\"text-align: right;\">\n",
       "      <th></th>\n",
       "      <th>IdNo</th>\n",
       "      <th>TotalMoney</th>\n",
       "      <th>GameName</th>\n",
       "      <th>Genre</th>\n",
       "      <th>PlayerNo</th>\n",
       "      <th>TournamentNo</th>\n",
       "      <th>Top_Country</th>\n",
       "      <th>Top_Country_Earnings</th>\n",
       "      <th>Releaseyear</th>\n",
       "    </tr>\n",
       "  </thead>\n",
       "  <tbody>\n",
       "    <tr>\n",
       "      <th>1</th>\n",
       "      <td>510</td>\n",
       "      <td>NaN</td>\n",
       "      <td>Age of Empires</td>\n",
       "      <td>None</td>\n",
       "      <td>NaN</td>\n",
       "      <td>95</td>\n",
       "      <td>Viet Nam</td>\n",
       "      <td>123408.43</td>\n",
       "      <td>1997</td>\n",
       "    </tr>\n",
       "    <tr>\n",
       "      <th>10</th>\n",
       "      <td>457</td>\n",
       "      <td>NaN</td>\n",
       "      <td>Aquapazza: Aquaplus Dream Match</td>\n",
       "      <td>None</td>\n",
       "      <td>NaN</td>\n",
       "      <td>2</td>\n",
       "      <td>United States</td>\n",
       "      <td>128.50</td>\n",
       "      <td>2011</td>\n",
       "    </tr>\n",
       "    <tr>\n",
       "      <th>20</th>\n",
       "      <td>553</td>\n",
       "      <td>NaN</td>\n",
       "      <td>Assetto Corsa</td>\n",
       "      <td>None</td>\n",
       "      <td>NaN</td>\n",
       "      <td>31</td>\n",
       "      <td>Czech Republic</td>\n",
       "      <td>68689.40</td>\n",
       "      <td>2014</td>\n",
       "    </tr>\n",
       "    <tr>\n",
       "      <th>30</th>\n",
       "      <td>248</td>\n",
       "      <td>NaN</td>\n",
       "      <td>Battlefield 3</td>\n",
       "      <td>None</td>\n",
       "      <td>NaN</td>\n",
       "      <td>7</td>\n",
       "      <td>Netherlands</td>\n",
       "      <td>1422.18</td>\n",
       "      <td>2011</td>\n",
       "    </tr>\n",
       "    <tr>\n",
       "      <th>40</th>\n",
       "      <td>456</td>\n",
       "      <td>NaN</td>\n",
       "      <td>BlazBlue: Central Fiction</td>\n",
       "      <td>None</td>\n",
       "      <td>NaN</td>\n",
       "      <td>38</td>\n",
       "      <td>Japan</td>\n",
       "      <td>54782.90</td>\n",
       "      <td>2015</td>\n",
       "    </tr>\n",
       "    <tr>\n",
       "      <th>50</th>\n",
       "      <td>551</td>\n",
       "      <td>NaN</td>\n",
       "      <td>Brawlout</td>\n",
       "      <td>None</td>\n",
       "      <td>NaN</td>\n",
       "      <td>0</td>\n",
       "      <td>None</td>\n",
       "      <td>0.00</td>\n",
       "      <td>2017</td>\n",
       "    </tr>\n",
       "    <tr>\n",
       "      <th>60</th>\n",
       "      <td>704</td>\n",
       "      <td>NaN</td>\n",
       "      <td>Call of Duty: Blackout</td>\n",
       "      <td>None</td>\n",
       "      <td>NaN</td>\n",
       "      <td>18</td>\n",
       "      <td>United States</td>\n",
       "      <td>429158.72</td>\n",
       "      <td>2018</td>\n",
       "    </tr>\n",
       "    <tr>\n",
       "      <th>70</th>\n",
       "      <td>195</td>\n",
       "      <td>NaN</td>\n",
       "      <td>Capcom vs. SNK 2</td>\n",
       "      <td>None</td>\n",
       "      <td>NaN</td>\n",
       "      <td>19</td>\n",
       "      <td>Japan</td>\n",
       "      <td>12814.00</td>\n",
       "      <td>2001</td>\n",
       "    </tr>\n",
       "    <tr>\n",
       "      <th>80</th>\n",
       "      <td>600</td>\n",
       "      <td>NaN</td>\n",
       "      <td>Company of Heroes 2</td>\n",
       "      <td>None</td>\n",
       "      <td>NaN</td>\n",
       "      <td>6</td>\n",
       "      <td>Germany</td>\n",
       "      <td>2801.86</td>\n",
       "      <td>2013</td>\n",
       "    </tr>\n",
       "    <tr>\n",
       "      <th>90</th>\n",
       "      <td>396</td>\n",
       "      <td>NaN</td>\n",
       "      <td>Crysis</td>\n",
       "      <td>None</td>\n",
       "      <td>NaN</td>\n",
       "      <td>2</td>\n",
       "      <td>None</td>\n",
       "      <td>0.00</td>\n",
       "      <td>2007</td>\n",
       "    </tr>\n",
       "    <tr>\n",
       "      <th>100</th>\n",
       "      <td>193</td>\n",
       "      <td>NaN</td>\n",
       "      <td>Dead or Alive Ultimate</td>\n",
       "      <td>None</td>\n",
       "      <td>NaN</td>\n",
       "      <td>1</td>\n",
       "      <td>Japan</td>\n",
       "      <td>15000.00</td>\n",
       "      <td>2004</td>\n",
       "    </tr>\n",
       "  </tbody>\n",
       "</table>\n",
       "</div>"
      ],
      "text/plain": [
       "     IdNo  TotalMoney                         GameName Genre  PlayerNo  \\\n",
       "1     510         NaN                   Age of Empires  None       NaN   \n",
       "10    457         NaN  Aquapazza: Aquaplus Dream Match  None       NaN   \n",
       "20    553         NaN                    Assetto Corsa  None       NaN   \n",
       "30    248         NaN                    Battlefield 3  None       NaN   \n",
       "40    456         NaN        BlazBlue: Central Fiction  None       NaN   \n",
       "50    551         NaN                         Brawlout  None       NaN   \n",
       "60    704         NaN           Call of Duty: Blackout  None       NaN   \n",
       "70    195         NaN                 Capcom vs. SNK 2  None       NaN   \n",
       "80    600         NaN              Company of Heroes 2  None       NaN   \n",
       "90    396         NaN                           Crysis  None       NaN   \n",
       "100   193         NaN           Dead or Alive Ultimate  None       NaN   \n",
       "\n",
       "     TournamentNo     Top_Country  Top_Country_Earnings  Releaseyear  \n",
       "1              95        Viet Nam             123408.43         1997  \n",
       "10              2   United States                128.50         2011  \n",
       "20             31  Czech Republic              68689.40         2014  \n",
       "30              7     Netherlands               1422.18         2011  \n",
       "40             38           Japan              54782.90         2015  \n",
       "50              0            None                  0.00         2017  \n",
       "60             18   United States             429158.72         2018  \n",
       "70             19           Japan              12814.00         2001  \n",
       "80              6         Germany               2801.86         2013  \n",
       "90              2            None                  0.00         2007  \n",
       "100             1           Japan              15000.00         2004  "
      ]
     },
     "execution_count": 6,
     "metadata": {},
     "output_type": "execute_result"
    }
   ],
   "source": [
    "# Untuk Menghilangkan SettingWithCopyWarning\n",
    "pd.options.mode.chained_assignment = None\n",
    "\n",
    "data.TotalMoney[[1,10,20,30,40,50,60,70,80,90,100]]=None;\n",
    "data.PlayerNo[[1,10,20,30,40,50,60,70,80,90,100]]=None;\n",
    "data.Genre[[1,10,20,30,40,50,60,70,80,90,100]]=None;\n",
    "\n",
    "data[data.isnull().any(axis=1)]"
   ]
  },
  {
   "cell_type": "markdown",
   "id": "24689c9c-fae4-40e6-97c2-eae4ab2a6e42",
   "metadata": {},
   "source": [
    "##### Data Bilangan Bulat dengan Strategi Median"
   ]
  },
  {
   "cell_type": "code",
   "execution_count": 7,
   "id": "d1eee3dd-0a15-4f85-8cbe-aab5a11ea7c4",
   "metadata": {},
   "outputs": [
    {
     "data": {
      "text/plain": [
       "IdNo                     0\n",
       "TotalMoney              11\n",
       "GameName                 0\n",
       "Genre                   11\n",
       "PlayerNo                 0\n",
       "TournamentNo             0\n",
       "Top_Country              0\n",
       "Top_Country_Earnings     0\n",
       "Releaseyear              0\n",
       "dtype: int64"
      ]
     },
     "execution_count": 7,
     "metadata": {},
     "output_type": "execute_result"
    }
   ],
   "source": [
    "strategi1 = SimpleImputer(strategy=\"median\")\n",
    "\n",
    "data[\"PlayerNo\"] = strategi1.fit_transform(data[[\"PlayerNo\"]])\n",
    "\n",
    "data.isna().sum()"
   ]
  },
  {
   "cell_type": "code",
   "execution_count": 8,
   "id": "581fcef5-0437-49de-b3cd-3802a5a18fb4",
   "metadata": {},
   "outputs": [
    {
     "name": "stdout",
     "output_type": "stream",
     "text": [
      "1      20.0\n",
      "10     20.0\n",
      "20     20.0\n",
      "30     20.0\n",
      "40     20.0\n",
      "50     20.0\n",
      "60     20.0\n",
      "70     20.0\n",
      "80     20.0\n",
      "90     20.0\n",
      "100    20.0\n",
      "Name: PlayerNo, dtype: float64\n"
     ]
    }
   ],
   "source": [
    "print(data.PlayerNo[[1,10,20,30,40,50,60,70,80,90,100]])"
   ]
  },
  {
   "cell_type": "markdown",
   "id": "f9151244-ac9f-4e6c-8630-edbce2c20846",
   "metadata": {},
   "source": [
    "##### Data Bilangan Desimal dengan Strategi Mean"
   ]
  },
  {
   "cell_type": "code",
   "execution_count": 9,
   "id": "a1849883-1915-4d5e-a396-280f49ddf9ac",
   "metadata": {},
   "outputs": [
    {
     "data": {
      "text/plain": [
       "IdNo                     0\n",
       "TotalMoney               0\n",
       "GameName                 0\n",
       "Genre                   11\n",
       "PlayerNo                 0\n",
       "TournamentNo             0\n",
       "Top_Country              0\n",
       "Top_Country_Earnings     0\n",
       "Releaseyear              0\n",
       "dtype: int64"
      ]
     },
     "execution_count": 9,
     "metadata": {},
     "output_type": "execute_result"
    }
   ],
   "source": [
    "strategi2 = SimpleImputer(strategy=\"mean\")\n",
    "\n",
    "data[\"TotalMoney\"] = strategi2.fit_transform(data[[\"TotalMoney\"]])\n",
    "\n",
    "data.isna().sum()"
   ]
  },
  {
   "cell_type": "code",
   "execution_count": 10,
   "id": "4e8b7d32-f111-4468-8415-49108f9c9286",
   "metadata": {},
   "outputs": [
    {
     "name": "stdout",
     "output_type": "stream",
     "text": [
      "1      1.781295e+06\n",
      "10     1.781295e+06\n",
      "20     1.781295e+06\n",
      "30     1.781295e+06\n",
      "40     1.781295e+06\n",
      "50     1.781295e+06\n",
      "60     1.781295e+06\n",
      "70     1.781295e+06\n",
      "80     1.781295e+06\n",
      "90     1.781295e+06\n",
      "100    1.781295e+06\n",
      "Name: TotalMoney, dtype: float64\n"
     ]
    }
   ],
   "source": [
    "print(data.TotalMoney[[1,10,20,30,40,50,60,70,80,90,100]])"
   ]
  },
  {
   "cell_type": "markdown",
   "id": "21868406-2b30-42bc-8e45-1faf08abb0e6",
   "metadata": {},
   "source": [
    "##### Data Tulisan dengan Strategi Modus"
   ]
  },
  {
   "cell_type": "code",
   "execution_count": 11,
   "id": "e7664c74-c6c7-430b-a1c7-54dc11305c9a",
   "metadata": {},
   "outputs": [
    {
     "data": {
      "text/plain": [
       "IdNo                    0\n",
       "TotalMoney              0\n",
       "GameName                0\n",
       "Genre                   0\n",
       "PlayerNo                0\n",
       "TournamentNo            0\n",
       "Top_Country             0\n",
       "Top_Country_Earnings    0\n",
       "Releaseyear             0\n",
       "dtype: int64"
      ]
     },
     "execution_count": 11,
     "metadata": {},
     "output_type": "execute_result"
    }
   ],
   "source": [
    "strategi3 = SimpleImputer(missing_values=None, strategy=\"most_frequent\")\n",
    "\n",
    "data[\"Genre\"] = strategi3.fit_transform(data[[\"Genre\"]])\n",
    "\n",
    "data.isna().sum()"
   ]
  },
  {
   "cell_type": "code",
   "execution_count": 12,
   "id": "748ab961-bf5a-4089-b4e2-0bf9a89fb3fe",
   "metadata": {},
   "outputs": [
    {
     "name": "stdout",
     "output_type": "stream",
     "text": [
      "1      Fighting Game\n",
      "10     Fighting Game\n",
      "20     Fighting Game\n",
      "30     Fighting Game\n",
      "40     Fighting Game\n",
      "50     Fighting Game\n",
      "60     Fighting Game\n",
      "70     Fighting Game\n",
      "80     Fighting Game\n",
      "90     Fighting Game\n",
      "100    Fighting Game\n",
      "Name: Genre, dtype: object\n"
     ]
    }
   ],
   "source": [
    "print(data.Genre[[1,10,20,30,40,50,60,70,80,90,100]])"
   ]
  },
  {
   "cell_type": "markdown",
   "id": "7ecfe12f-7d1a-450c-8f4c-978a47ca8372",
   "metadata": {},
   "source": [
    "### Data Duplikat"
   ]
  },
  {
   "cell_type": "code",
   "execution_count": 13,
   "id": "fdf27182-344b-424c-acc0-3f70801c4d22",
   "metadata": {},
   "outputs": [
    {
     "name": "stdout",
     "output_type": "stream",
     "text": [
      "Jumlah Data Duplikat : \n"
     ]
    },
    {
     "data": {
      "text/plain": [
       "0"
      ]
     },
     "execution_count": 13,
     "metadata": {},
     "output_type": "execute_result"
    }
   ],
   "source": [
    "data[data.duplicated()]\n",
    "\n",
    "print(\"Jumlah Data Duplikat : \")\n",
    "data.duplicated().sum()"
   ]
  },
  {
   "cell_type": "markdown",
   "id": "69c4e90b-ea2a-4110-bdce-13298b1d3588",
   "metadata": {},
   "source": [
    "##### Karena Data tidak ada yang ganda maka dibuat"
   ]
  },
  {
   "cell_type": "code",
   "execution_count": 14,
   "id": "0bc6d74e-722c-47a9-b5c4-93d42aec575f",
   "metadata": {},
   "outputs": [
    {
     "name": "stdout",
     "output_type": "stream",
     "text": [
      "Jumlah data duplicated sekarang :\n"
     ]
    },
    {
     "data": {
      "text/plain": [
       "504"
      ]
     },
     "execution_count": 14,
     "metadata": {},
     "output_type": "execute_result"
    }
   ],
   "source": [
    "make_duplicated = pd.concat([data]*2, ignore_index=True)\n",
    "make_duplicated.duplicated()\n",
    "\n",
    "print(\"Jumlah data duplicated sekarang :\")\n",
    "make_duplicated.duplicated().sum()"
   ]
  },
  {
   "cell_type": "code",
   "execution_count": 15,
   "id": "33596407-4315-4ae1-bd09-48d1880e67e0",
   "metadata": {},
   "outputs": [
    {
     "name": "stdout",
     "output_type": "stream",
     "text": [
      "Jumlah data duplicated setelah di drop :\n"
     ]
    },
    {
     "data": {
      "text/plain": [
       "0"
      ]
     },
     "execution_count": 15,
     "metadata": {},
     "output_type": "execute_result"
    }
   ],
   "source": [
    "make_duplicated.drop_duplicates(inplace=True)\n",
    "\n",
    "hasil = make_duplicated.reset_index(drop=True)\n",
    "print(\"Jumlah data duplicated setelah di drop :\")\n",
    "hasil.duplicated().sum()"
   ]
  },
  {
   "cell_type": "markdown",
   "id": "30a7b2e7-0a56-495a-8604-32328b38a81e",
   "metadata": {},
   "source": [
    "### Normalisasi Data"
   ]
  },
  {
   "cell_type": "code",
   "execution_count": 16,
   "id": "2f943409-9526-46d8-a12a-839eacc68270",
   "metadata": {},
   "outputs": [
    {
     "name": "stdout",
     "output_type": "stream",
     "text": [
      "\n",
      "Data Sebelum dan Sesudah dilakukan normalisasi : \n",
      "\n"
     ]
    },
    {
     "data": {
      "text/html": [
       "<div>\n",
       "<style scoped>\n",
       "    .dataframe tbody tr th:only-of-type {\n",
       "        vertical-align: middle;\n",
       "    }\n",
       "\n",
       "    .dataframe tbody tr th {\n",
       "        vertical-align: top;\n",
       "    }\n",
       "\n",
       "    .dataframe thead th {\n",
       "        text-align: right;\n",
       "    }\n",
       "</style>\n",
       "<table border=\"1\" class=\"dataframe\">\n",
       "  <thead>\n",
       "    <tr style=\"text-align: right;\">\n",
       "      <th></th>\n",
       "      <th>TournamentNo</th>\n",
       "      <th>TournamentNo_Normalization</th>\n",
       "    </tr>\n",
       "  </thead>\n",
       "  <tbody>\n",
       "    <tr>\n",
       "      <th>0</th>\n",
       "      <td>2</td>\n",
       "      <td>0.000338</td>\n",
       "    </tr>\n",
       "    <tr>\n",
       "      <th>1</th>\n",
       "      <td>95</td>\n",
       "      <td>0.016077</td>\n",
       "    </tr>\n",
       "    <tr>\n",
       "      <th>2</th>\n",
       "      <td>576</td>\n",
       "      <td>0.097478</td>\n",
       "    </tr>\n",
       "    <tr>\n",
       "      <th>3</th>\n",
       "      <td>76</td>\n",
       "      <td>0.012862</td>\n",
       "    </tr>\n",
       "    <tr>\n",
       "      <th>4</th>\n",
       "      <td>7</td>\n",
       "      <td>0.001185</td>\n",
       "    </tr>\n",
       "    <tr>\n",
       "      <th>5</th>\n",
       "      <td>6</td>\n",
       "      <td>0.001015</td>\n",
       "    </tr>\n",
       "    <tr>\n",
       "      <th>6</th>\n",
       "      <td>1</td>\n",
       "      <td>0.000169</td>\n",
       "    </tr>\n",
       "    <tr>\n",
       "      <th>7</th>\n",
       "      <td>1</td>\n",
       "      <td>0.000169</td>\n",
       "    </tr>\n",
       "    <tr>\n",
       "      <th>8</th>\n",
       "      <td>2</td>\n",
       "      <td>0.000338</td>\n",
       "    </tr>\n",
       "    <tr>\n",
       "      <th>9</th>\n",
       "      <td>170</td>\n",
       "      <td>0.028770</td>\n",
       "    </tr>\n",
       "  </tbody>\n",
       "</table>\n",
       "</div>"
      ],
      "text/plain": [
       "   TournamentNo  TournamentNo_Normalization\n",
       "0             2                    0.000338\n",
       "1            95                    0.016077\n",
       "2           576                    0.097478\n",
       "3            76                    0.012862\n",
       "4             7                    0.001185\n",
       "5             6                    0.001015\n",
       "6             1                    0.000169\n",
       "7             1                    0.000169\n",
       "8             2                    0.000338\n",
       "9           170                    0.028770"
      ]
     },
     "execution_count": 16,
     "metadata": {},
     "output_type": "execute_result"
    }
   ],
   "source": [
    "min_max = MinMaxScaler()\n",
    "\n",
    "# Copy Data\n",
    "copy1 = data\n",
    "dataCopy_normalization = copy1[[\"TournamentNo\"]]\n",
    "\n",
    "normalization = min_max.fit_transform(dataCopy_normalization[[\"TournamentNo\"]])\n",
    "\n",
    "data_normalization = pd.DataFrame(normalization)\n",
    "data_normalization.columns =[\"TournamentNo_Normalization\"]\n",
    "\n",
    "dataCopy_normalization = dataCopy_normalization.join(data_normalization[\"TournamentNo_Normalization\"]).reset_index()\n",
    "dataCopy_normalization = dataCopy_normalization.drop(\"index\", axis=1)\n",
    "\n",
    "print()\n",
    "print(\"Data Sebelum dan Sesudah dilakukan normalisasi : \\n\")\n",
    "dataCopy_normalization.head(10)"
   ]
  },
  {
   "cell_type": "markdown",
   "id": "92028e15-e75e-4aaa-bb38-e05996f0c53a",
   "metadata": {},
   "source": [
    "### Standarisasi Data"
   ]
  },
  {
   "cell_type": "code",
   "execution_count": 17,
   "id": "4c0b67fc-d379-4e08-a41c-f78cf62b4c5e",
   "metadata": {},
   "outputs": [
    {
     "name": "stdout",
     "output_type": "stream",
     "text": [
      "Data Sebelum Scaling : \n"
     ]
    },
    {
     "data": {
      "text/html": [
       "<div>\n",
       "<style scoped>\n",
       "    .dataframe tbody tr th:only-of-type {\n",
       "        vertical-align: middle;\n",
       "    }\n",
       "\n",
       "    .dataframe tbody tr th {\n",
       "        vertical-align: top;\n",
       "    }\n",
       "\n",
       "    .dataframe thead th {\n",
       "        text-align: right;\n",
       "    }\n",
       "</style>\n",
       "<table border=\"1\" class=\"dataframe\">\n",
       "  <thead>\n",
       "    <tr style=\"text-align: right;\">\n",
       "      <th></th>\n",
       "      <th>IdNo</th>\n",
       "      <th>TotalMoney</th>\n",
       "      <th>PlayerNo</th>\n",
       "      <th>TournamentNo</th>\n",
       "      <th>Top_Country_Earnings</th>\n",
       "      <th>Releaseyear</th>\n",
       "    </tr>\n",
       "  </thead>\n",
       "  <tbody>\n",
       "    <tr>\n",
       "      <th>0</th>\n",
       "      <td>613</td>\n",
       "      <td>3.100000e+02</td>\n",
       "      <td>6.0</td>\n",
       "      <td>2</td>\n",
       "      <td>310.00</td>\n",
       "      <td>2018</td>\n",
       "    </tr>\n",
       "    <tr>\n",
       "      <th>1</th>\n",
       "      <td>510</td>\n",
       "      <td>1.781295e+06</td>\n",
       "      <td>20.0</td>\n",
       "      <td>95</td>\n",
       "      <td>123408.43</td>\n",
       "      <td>1997</td>\n",
       "    </tr>\n",
       "    <tr>\n",
       "      <th>2</th>\n",
       "      <td>179</td>\n",
       "      <td>1.492490e+06</td>\n",
       "      <td>956.0</td>\n",
       "      <td>576</td>\n",
       "      <td>174252.44</td>\n",
       "      <td>1999</td>\n",
       "    </tr>\n",
       "    <tr>\n",
       "      <th>3</th>\n",
       "      <td>177</td>\n",
       "      <td>6.811385e+04</td>\n",
       "      <td>106.0</td>\n",
       "      <td>76</td>\n",
       "      <td>18523.52</td>\n",
       "      <td>2005</td>\n",
       "    </tr>\n",
       "    <tr>\n",
       "      <th>4</th>\n",
       "      <td>540</td>\n",
       "      <td>2.668000e+03</td>\n",
       "      <td>16.0</td>\n",
       "      <td>7</td>\n",
       "      <td>1264.00</td>\n",
       "      <td>2011</td>\n",
       "    </tr>\n",
       "    <tr>\n",
       "      <th>5</th>\n",
       "      <td>178</td>\n",
       "      <td>5.236000e+04</td>\n",
       "      <td>22.0</td>\n",
       "      <td>6</td>\n",
       "      <td>22000.00</td>\n",
       "      <td>2002</td>\n",
       "    </tr>\n",
       "    <tr>\n",
       "      <th>6</th>\n",
       "      <td>667</td>\n",
       "      <td>2.000000e+01</td>\n",
       "      <td>3.0</td>\n",
       "      <td>1</td>\n",
       "      <td>20.00</td>\n",
       "      <td>2007</td>\n",
       "    </tr>\n",
       "    <tr>\n",
       "      <th>7</th>\n",
       "      <td>246</td>\n",
       "      <td>4.000000e+04</td>\n",
       "      <td>1.0</td>\n",
       "      <td>1</td>\n",
       "      <td>40000.00</td>\n",
       "      <td>2001</td>\n",
       "    </tr>\n",
       "    <tr>\n",
       "      <th>8</th>\n",
       "      <td>702</td>\n",
       "      <td>1.100000e+04</td>\n",
       "      <td>5.0</td>\n",
       "      <td>2</td>\n",
       "      <td>10000.00</td>\n",
       "      <td>2018</td>\n",
       "    </tr>\n",
       "    <tr>\n",
       "      <th>9</th>\n",
       "      <td>566</td>\n",
       "      <td>4.273352e+06</td>\n",
       "      <td>1099.0</td>\n",
       "      <td>170</td>\n",
       "      <td>1825646.05</td>\n",
       "      <td>2019</td>\n",
       "    </tr>\n",
       "  </tbody>\n",
       "</table>\n",
       "</div>"
      ],
      "text/plain": [
       "   IdNo    TotalMoney  PlayerNo  TournamentNo  Top_Country_Earnings  \\\n",
       "0   613  3.100000e+02       6.0             2                310.00   \n",
       "1   510  1.781295e+06      20.0            95             123408.43   \n",
       "2   179  1.492490e+06     956.0           576             174252.44   \n",
       "3   177  6.811385e+04     106.0            76              18523.52   \n",
       "4   540  2.668000e+03      16.0             7               1264.00   \n",
       "5   178  5.236000e+04      22.0             6              22000.00   \n",
       "6   667  2.000000e+01       3.0             1                 20.00   \n",
       "7   246  4.000000e+04       1.0             1              40000.00   \n",
       "8   702  1.100000e+04       5.0             2              10000.00   \n",
       "9   566  4.273352e+06    1099.0           170            1825646.05   \n",
       "\n",
       "   Releaseyear  \n",
       "0         2018  \n",
       "1         1997  \n",
       "2         1999  \n",
       "3         2005  \n",
       "4         2011  \n",
       "5         2002  \n",
       "6         2007  \n",
       "7         2001  \n",
       "8         2018  \n",
       "9         2019  "
      ]
     },
     "execution_count": 17,
     "metadata": {},
     "output_type": "execute_result"
    }
   ],
   "source": [
    "ssc = StandardScaler()\n",
    "\n",
    "# Copy Data\n",
    "copy2 = data\n",
    "dataCopy_standarization = copy2.select_dtypes(include='number')\n",
    "\n",
    "standarization = ssc.fit_transform(dataCopy_standarization)\n",
    "\n",
    "data_standarization = pd.DataFrame(standarization)\n",
    "data_standarization.columns = [\"IdNo_Std\", \"TotalMoney_Std\", \"PlayerNo_Std\", \"TournamentNo_Std\", \"Top_Country_Earnings_Std\", \"Releaseyear_Std\"]\n",
    "\n",
    "print(\"Data Sebelum Scaling : \")\n",
    "dataCopy_standarization.head(10)"
   ]
  },
  {
   "cell_type": "code",
   "execution_count": 18,
   "id": "82519c6b-3aab-4a67-aa7c-6bac788c2bba",
   "metadata": {},
   "outputs": [
    {
     "name": "stdout",
     "output_type": "stream",
     "text": [
      "Nilai standar deviasi : \n"
     ]
    },
    {
     "data": {
      "text/plain": [
       "IdNo                    1.633026e+02\n",
       "TotalMoney              1.267648e+07\n",
       "PlayerNo                7.950614e+02\n",
       "TournamentNo            4.120513e+02\n",
       "Top_Country_Earnings    3.748076e+06\n",
       "Releaseyear             8.926553e+01\n",
       "dtype: float64"
      ]
     },
     "execution_count": 18,
     "metadata": {},
     "output_type": "execute_result"
    }
   ],
   "source": [
    "print(\"Nilai standar deviasi : \")\n",
    "np.std(dataCopy_standarization)"
   ]
  },
  {
   "cell_type": "code",
   "execution_count": 19,
   "id": "07e9e09b-1ee4-4f27-896b-32c7b9c5186e",
   "metadata": {},
   "outputs": [
    {
     "name": "stdout",
     "output_type": "stream",
     "text": [
      "Data sesudah Scaling : \n"
     ]
    },
    {
     "data": {
      "text/html": [
       "<div>\n",
       "<style scoped>\n",
       "    .dataframe tbody tr th:only-of-type {\n",
       "        vertical-align: middle;\n",
       "    }\n",
       "\n",
       "    .dataframe tbody tr th {\n",
       "        vertical-align: top;\n",
       "    }\n",
       "\n",
       "    .dataframe thead th {\n",
       "        text-align: right;\n",
       "    }\n",
       "</style>\n",
       "<table border=\"1\" class=\"dataframe\">\n",
       "  <thead>\n",
       "    <tr style=\"text-align: right;\">\n",
       "      <th></th>\n",
       "      <th>IdNo_Std</th>\n",
       "      <th>TotalMoney_Std</th>\n",
       "      <th>PlayerNo_Std</th>\n",
       "      <th>TournamentNo_Std</th>\n",
       "      <th>Top_Country_Earnings_Std</th>\n",
       "      <th>Releaseyear_Std</th>\n",
       "    </tr>\n",
       "  </thead>\n",
       "  <tbody>\n",
       "    <tr>\n",
       "      <th>0</th>\n",
       "      <td>1.053429</td>\n",
       "      <td>-0.140495</td>\n",
       "      <td>-0.226258</td>\n",
       "      <td>-0.191107</td>\n",
       "      <td>-0.160288</td>\n",
       "      <td>0.123428</td>\n",
       "    </tr>\n",
       "    <tr>\n",
       "      <th>1</th>\n",
       "      <td>0.422699</td>\n",
       "      <td>0.000000</td>\n",
       "      <td>-0.208649</td>\n",
       "      <td>0.034593</td>\n",
       "      <td>-0.127445</td>\n",
       "      <td>-0.111825</td>\n",
       "    </tr>\n",
       "    <tr>\n",
       "      <th>2</th>\n",
       "      <td>-1.604213</td>\n",
       "      <td>-0.022783</td>\n",
       "      <td>0.968618</td>\n",
       "      <td>1.201923</td>\n",
       "      <td>-0.113880</td>\n",
       "      <td>-0.089420</td>\n",
       "    </tr>\n",
       "    <tr>\n",
       "      <th>3</th>\n",
       "      <td>-1.616460</td>\n",
       "      <td>-0.135146</td>\n",
       "      <td>-0.100481</td>\n",
       "      <td>-0.011518</td>\n",
       "      <td>-0.155429</td>\n",
       "      <td>-0.022205</td>\n",
       "    </tr>\n",
       "    <tr>\n",
       "      <th>4</th>\n",
       "      <td>0.606407</td>\n",
       "      <td>-0.140309</td>\n",
       "      <td>-0.213680</td>\n",
       "      <td>-0.178973</td>\n",
       "      <td>-0.160034</td>\n",
       "      <td>0.045010</td>\n",
       "    </tr>\n",
       "    <tr>\n",
       "      <th>5</th>\n",
       "      <td>-1.610337</td>\n",
       "      <td>-0.136389</td>\n",
       "      <td>-0.206134</td>\n",
       "      <td>-0.181400</td>\n",
       "      <td>-0.154501</td>\n",
       "      <td>-0.055813</td>\n",
       "    </tr>\n",
       "    <tr>\n",
       "      <th>6</th>\n",
       "      <td>1.384104</td>\n",
       "      <td>-0.140518</td>\n",
       "      <td>-0.230031</td>\n",
       "      <td>-0.193534</td>\n",
       "      <td>-0.160366</td>\n",
       "      <td>0.000200</td>\n",
       "    </tr>\n",
       "    <tr>\n",
       "      <th>7</th>\n",
       "      <td>-1.193932</td>\n",
       "      <td>-0.137364</td>\n",
       "      <td>-0.232547</td>\n",
       "      <td>-0.193534</td>\n",
       "      <td>-0.149699</td>\n",
       "      <td>-0.067015</td>\n",
       "    </tr>\n",
       "    <tr>\n",
       "      <th>8</th>\n",
       "      <td>1.598430</td>\n",
       "      <td>-0.139652</td>\n",
       "      <td>-0.227516</td>\n",
       "      <td>-0.191107</td>\n",
       "      <td>-0.157703</td>\n",
       "      <td>0.123428</td>\n",
       "    </tr>\n",
       "    <tr>\n",
       "      <th>9</th>\n",
       "      <td>0.765620</td>\n",
       "      <td>0.196589</td>\n",
       "      <td>1.148479</td>\n",
       "      <td>0.216609</td>\n",
       "      <td>0.326718</td>\n",
       "      <td>0.134630</td>\n",
       "    </tr>\n",
       "  </tbody>\n",
       "</table>\n",
       "</div>"
      ],
      "text/plain": [
       "   IdNo_Std  TotalMoney_Std  PlayerNo_Std  TournamentNo_Std  \\\n",
       "0  1.053429       -0.140495     -0.226258         -0.191107   \n",
       "1  0.422699        0.000000     -0.208649          0.034593   \n",
       "2 -1.604213       -0.022783      0.968618          1.201923   \n",
       "3 -1.616460       -0.135146     -0.100481         -0.011518   \n",
       "4  0.606407       -0.140309     -0.213680         -0.178973   \n",
       "5 -1.610337       -0.136389     -0.206134         -0.181400   \n",
       "6  1.384104       -0.140518     -0.230031         -0.193534   \n",
       "7 -1.193932       -0.137364     -0.232547         -0.193534   \n",
       "8  1.598430       -0.139652     -0.227516         -0.191107   \n",
       "9  0.765620        0.196589      1.148479          0.216609   \n",
       "\n",
       "   Top_Country_Earnings_Std  Releaseyear_Std  \n",
       "0                 -0.160288         0.123428  \n",
       "1                 -0.127445        -0.111825  \n",
       "2                 -0.113880        -0.089420  \n",
       "3                 -0.155429        -0.022205  \n",
       "4                 -0.160034         0.045010  \n",
       "5                 -0.154501        -0.055813  \n",
       "6                 -0.160366         0.000200  \n",
       "7                 -0.149699        -0.067015  \n",
       "8                 -0.157703         0.123428  \n",
       "9                  0.326718         0.134630  "
      ]
     },
     "execution_count": 19,
     "metadata": {},
     "output_type": "execute_result"
    }
   ],
   "source": [
    "print(\"Data sesudah Scaling : \")\n",
    "data_standarization.head(10)"
   ]
  },
  {
   "cell_type": "code",
   "execution_count": 20,
   "id": "dba33c23-a282-4d7d-99f8-59693a411931",
   "metadata": {},
   "outputs": [
    {
     "name": "stdout",
     "output_type": "stream",
     "text": [
      "Nilai standar deviasi : \n"
     ]
    },
    {
     "data": {
      "text/plain": [
       "IdNo_Std                    1.0\n",
       "TotalMoney_Std              1.0\n",
       "PlayerNo_Std                1.0\n",
       "TournamentNo_Std            1.0\n",
       "Top_Country_Earnings_Std    1.0\n",
       "Releaseyear_Std             1.0\n",
       "dtype: float64"
      ]
     },
     "execution_count": 20,
     "metadata": {},
     "output_type": "execute_result"
    }
   ],
   "source": [
    "print(\"Nilai standar deviasi : \")\n",
    "np.std(data_standarization)"
   ]
  },
  {
   "cell_type": "markdown",
   "id": "e2faf5e3-c283-4a9f-862b-d60730c86379",
   "metadata": {},
   "source": [
    "###  Ganti Tipe Data"
   ]
  },
  {
   "cell_type": "code",
   "execution_count": 21,
   "id": "891d9b0f-e06c-4e18-9537-e5b812c2f489",
   "metadata": {},
   "outputs": [
    {
     "name": "stdout",
     "output_type": "stream",
     "text": [
      "Tipe data TournamentNo sebelum diubah :\n"
     ]
    },
    {
     "data": {
      "text/plain": [
       "dtype('int64')"
      ]
     },
     "execution_count": 21,
     "metadata": {},
     "output_type": "execute_result"
    }
   ],
   "source": [
    "print(\"Tipe data TournamentNo sebelum diubah :\")\n",
    "data[\"TournamentNo\"].dtypes"
   ]
  },
  {
   "cell_type": "code",
   "execution_count": 22,
   "id": "aae20fc1-ee6a-44c3-81d8-df07b8fbfcf7",
   "metadata": {},
   "outputs": [
    {
     "name": "stdout",
     "output_type": "stream",
     "text": [
      "Tipe data TournamentNo setelah diubah :\n"
     ]
    },
    {
     "data": {
      "text/plain": [
       "dtype('float64')"
      ]
     },
     "execution_count": 22,
     "metadata": {},
     "output_type": "execute_result"
    }
   ],
   "source": [
    "ubah_dtype = data[\"TournamentNo\"].astype(\"float\")\n",
    "print(\"Tipe data TournamentNo setelah diubah :\")\n",
    "ubah_dtype.dtypes"
   ]
  },
  {
   "cell_type": "markdown",
   "id": "81352f21-7e00-4109-9089-ad809c30e825",
   "metadata": {},
   "source": [
    "###  One-Hot Encoding"
   ]
  },
  {
   "cell_type": "code",
   "execution_count": 23,
   "id": "d93f91ea-4cd3-4a34-afda-7ac7ea5db5ab",
   "metadata": {},
   "outputs": [
    {
     "data": {
      "text/html": [
       "<div>\n",
       "<style scoped>\n",
       "    .dataframe tbody tr th:only-of-type {\n",
       "        vertical-align: middle;\n",
       "    }\n",
       "\n",
       "    .dataframe tbody tr th {\n",
       "        vertical-align: top;\n",
       "    }\n",
       "\n",
       "    .dataframe thead th {\n",
       "        text-align: right;\n",
       "    }\n",
       "</style>\n",
       "<table border=\"1\" class=\"dataframe\">\n",
       "  <thead>\n",
       "    <tr style=\"text-align: right;\">\n",
       "      <th></th>\n",
       "      <th>Genre</th>\n",
       "      <th>0</th>\n",
       "      <th>1</th>\n",
       "      <th>2</th>\n",
       "      <th>3</th>\n",
       "      <th>4</th>\n",
       "      <th>5</th>\n",
       "      <th>6</th>\n",
       "      <th>7</th>\n",
       "      <th>8</th>\n",
       "      <th>9</th>\n",
       "      <th>10</th>\n",
       "    </tr>\n",
       "  </thead>\n",
       "  <tbody>\n",
       "    <tr>\n",
       "      <th>0</th>\n",
       "      <td>Fighting Game</td>\n",
       "      <td>0.0</td>\n",
       "      <td>0.0</td>\n",
       "      <td>1.0</td>\n",
       "      <td>0.0</td>\n",
       "      <td>0.0</td>\n",
       "      <td>0.0</td>\n",
       "      <td>0.0</td>\n",
       "      <td>0.0</td>\n",
       "      <td>0.0</td>\n",
       "      <td>0.0</td>\n",
       "      <td>0.0</td>\n",
       "    </tr>\n",
       "    <tr>\n",
       "      <th>1</th>\n",
       "      <td>Fighting Game</td>\n",
       "      <td>0.0</td>\n",
       "      <td>0.0</td>\n",
       "      <td>1.0</td>\n",
       "      <td>0.0</td>\n",
       "      <td>0.0</td>\n",
       "      <td>0.0</td>\n",
       "      <td>0.0</td>\n",
       "      <td>0.0</td>\n",
       "      <td>0.0</td>\n",
       "      <td>0.0</td>\n",
       "      <td>0.0</td>\n",
       "    </tr>\n",
       "    <tr>\n",
       "      <th>2</th>\n",
       "      <td>Strategy</td>\n",
       "      <td>0.0</td>\n",
       "      <td>0.0</td>\n",
       "      <td>0.0</td>\n",
       "      <td>0.0</td>\n",
       "      <td>0.0</td>\n",
       "      <td>0.0</td>\n",
       "      <td>0.0</td>\n",
       "      <td>0.0</td>\n",
       "      <td>0.0</td>\n",
       "      <td>1.0</td>\n",
       "      <td>0.0</td>\n",
       "    </tr>\n",
       "    <tr>\n",
       "      <th>3</th>\n",
       "      <td>Strategy</td>\n",
       "      <td>0.0</td>\n",
       "      <td>0.0</td>\n",
       "      <td>0.0</td>\n",
       "      <td>0.0</td>\n",
       "      <td>0.0</td>\n",
       "      <td>0.0</td>\n",
       "      <td>0.0</td>\n",
       "      <td>0.0</td>\n",
       "      <td>0.0</td>\n",
       "      <td>1.0</td>\n",
       "      <td>0.0</td>\n",
       "    </tr>\n",
       "    <tr>\n",
       "      <th>4</th>\n",
       "      <td>Strategy</td>\n",
       "      <td>0.0</td>\n",
       "      <td>0.0</td>\n",
       "      <td>0.0</td>\n",
       "      <td>0.0</td>\n",
       "      <td>0.0</td>\n",
       "      <td>0.0</td>\n",
       "      <td>0.0</td>\n",
       "      <td>0.0</td>\n",
       "      <td>0.0</td>\n",
       "      <td>1.0</td>\n",
       "      <td>0.0</td>\n",
       "    </tr>\n",
       "    <tr>\n",
       "      <th>5</th>\n",
       "      <td>Strategy</td>\n",
       "      <td>0.0</td>\n",
       "      <td>0.0</td>\n",
       "      <td>0.0</td>\n",
       "      <td>0.0</td>\n",
       "      <td>0.0</td>\n",
       "      <td>0.0</td>\n",
       "      <td>0.0</td>\n",
       "      <td>0.0</td>\n",
       "      <td>0.0</td>\n",
       "      <td>1.0</td>\n",
       "      <td>0.0</td>\n",
       "    </tr>\n",
       "    <tr>\n",
       "      <th>6</th>\n",
       "      <td>Fighting Game</td>\n",
       "      <td>0.0</td>\n",
       "      <td>0.0</td>\n",
       "      <td>1.0</td>\n",
       "      <td>0.0</td>\n",
       "      <td>0.0</td>\n",
       "      <td>0.0</td>\n",
       "      <td>0.0</td>\n",
       "      <td>0.0</td>\n",
       "      <td>0.0</td>\n",
       "      <td>0.0</td>\n",
       "      <td>0.0</td>\n",
       "    </tr>\n",
       "    <tr>\n",
       "      <th>7</th>\n",
       "      <td>First-Person Shooter</td>\n",
       "      <td>0.0</td>\n",
       "      <td>0.0</td>\n",
       "      <td>0.0</td>\n",
       "      <td>1.0</td>\n",
       "      <td>0.0</td>\n",
       "      <td>0.0</td>\n",
       "      <td>0.0</td>\n",
       "      <td>0.0</td>\n",
       "      <td>0.0</td>\n",
       "      <td>0.0</td>\n",
       "      <td>0.0</td>\n",
       "    </tr>\n",
       "    <tr>\n",
       "      <th>8</th>\n",
       "      <td>Strategy</td>\n",
       "      <td>0.0</td>\n",
       "      <td>0.0</td>\n",
       "      <td>0.0</td>\n",
       "      <td>0.0</td>\n",
       "      <td>0.0</td>\n",
       "      <td>0.0</td>\n",
       "      <td>0.0</td>\n",
       "      <td>0.0</td>\n",
       "      <td>0.0</td>\n",
       "      <td>1.0</td>\n",
       "      <td>0.0</td>\n",
       "    </tr>\n",
       "    <tr>\n",
       "      <th>9</th>\n",
       "      <td>Battle Royale</td>\n",
       "      <td>1.0</td>\n",
       "      <td>0.0</td>\n",
       "      <td>0.0</td>\n",
       "      <td>0.0</td>\n",
       "      <td>0.0</td>\n",
       "      <td>0.0</td>\n",
       "      <td>0.0</td>\n",
       "      <td>0.0</td>\n",
       "      <td>0.0</td>\n",
       "      <td>0.0</td>\n",
       "      <td>0.0</td>\n",
       "    </tr>\n",
       "  </tbody>\n",
       "</table>\n",
       "</div>"
      ],
      "text/plain": [
       "                  Genre    0    1    2    3    4    5    6    7    8    9   10\n",
       "0         Fighting Game  0.0  0.0  1.0  0.0  0.0  0.0  0.0  0.0  0.0  0.0  0.0\n",
       "1         Fighting Game  0.0  0.0  1.0  0.0  0.0  0.0  0.0  0.0  0.0  0.0  0.0\n",
       "2              Strategy  0.0  0.0  0.0  0.0  0.0  0.0  0.0  0.0  0.0  1.0  0.0\n",
       "3              Strategy  0.0  0.0  0.0  0.0  0.0  0.0  0.0  0.0  0.0  1.0  0.0\n",
       "4              Strategy  0.0  0.0  0.0  0.0  0.0  0.0  0.0  0.0  0.0  1.0  0.0\n",
       "5              Strategy  0.0  0.0  0.0  0.0  0.0  0.0  0.0  0.0  0.0  1.0  0.0\n",
       "6         Fighting Game  0.0  0.0  1.0  0.0  0.0  0.0  0.0  0.0  0.0  0.0  0.0\n",
       "7  First-Person Shooter  0.0  0.0  0.0  1.0  0.0  0.0  0.0  0.0  0.0  0.0  0.0\n",
       "8              Strategy  0.0  0.0  0.0  0.0  0.0  0.0  0.0  0.0  0.0  1.0  0.0\n",
       "9         Battle Royale  1.0  0.0  0.0  0.0  0.0  0.0  0.0  0.0  0.0  0.0  0.0"
      ]
     },
     "execution_count": 23,
     "metadata": {},
     "output_type": "execute_result"
    }
   ],
   "source": [
    "one_hot = OneHotEncoder(sparse=False)\n",
    "\n",
    "data_onehot = one_hot.fit_transform(data[[\"Genre\"]])\n",
    "df_onehot = pd.DataFrame(data_onehot)\n",
    "df_oh = data[['Genre']].join(df_onehot)\n",
    "\n",
    "\n",
    "df_oh.head(10)"
   ]
  },
  {
   "cell_type": "code",
   "execution_count": 24,
   "id": "81d556d2-1ca9-41c0-af13-fb24d102a55d",
   "metadata": {},
   "outputs": [
    {
     "data": {
      "text/html": [
       "<div>\n",
       "<style scoped>\n",
       "    .dataframe tbody tr th:only-of-type {\n",
       "        vertical-align: middle;\n",
       "    }\n",
       "\n",
       "    .dataframe tbody tr th {\n",
       "        vertical-align: top;\n",
       "    }\n",
       "\n",
       "    .dataframe thead th {\n",
       "        text-align: right;\n",
       "    }\n",
       "</style>\n",
       "<table border=\"1\" class=\"dataframe\">\n",
       "  <thead>\n",
       "    <tr style=\"text-align: right;\">\n",
       "      <th></th>\n",
       "      <th>IdNo</th>\n",
       "      <th>TotalMoney</th>\n",
       "      <th>GameName</th>\n",
       "      <th>Genre</th>\n",
       "      <th>PlayerNo</th>\n",
       "      <th>TournamentNo</th>\n",
       "      <th>Top_Country</th>\n",
       "      <th>Top_Country_Earnings</th>\n",
       "      <th>Releaseyear</th>\n",
       "    </tr>\n",
       "  </thead>\n",
       "  <tbody>\n",
       "    <tr>\n",
       "      <th>0</th>\n",
       "      <td>613</td>\n",
       "      <td>3.100000e+02</td>\n",
       "      <td>Acceleration of SUGURI 2</td>\n",
       "      <td>Fighting Game</td>\n",
       "      <td>6.0</td>\n",
       "      <td>2</td>\n",
       "      <td>United States</td>\n",
       "      <td>310.00</td>\n",
       "      <td>2018</td>\n",
       "    </tr>\n",
       "    <tr>\n",
       "      <th>1</th>\n",
       "      <td>510</td>\n",
       "      <td>1.781295e+06</td>\n",
       "      <td>Age of Empires</td>\n",
       "      <td>Fighting Game</td>\n",
       "      <td>20.0</td>\n",
       "      <td>95</td>\n",
       "      <td>Viet Nam</td>\n",
       "      <td>123408.43</td>\n",
       "      <td>1997</td>\n",
       "    </tr>\n",
       "    <tr>\n",
       "      <th>2</th>\n",
       "      <td>179</td>\n",
       "      <td>1.492490e+06</td>\n",
       "      <td>Age of Empires II</td>\n",
       "      <td>Strategy</td>\n",
       "      <td>956.0</td>\n",
       "      <td>576</td>\n",
       "      <td>China</td>\n",
       "      <td>174252.44</td>\n",
       "      <td>1999</td>\n",
       "    </tr>\n",
       "    <tr>\n",
       "      <th>3</th>\n",
       "      <td>177</td>\n",
       "      <td>6.811385e+04</td>\n",
       "      <td>Age of Empires III</td>\n",
       "      <td>Strategy</td>\n",
       "      <td>106.0</td>\n",
       "      <td>76</td>\n",
       "      <td>United States</td>\n",
       "      <td>18523.52</td>\n",
       "      <td>2005</td>\n",
       "    </tr>\n",
       "    <tr>\n",
       "      <th>4</th>\n",
       "      <td>540</td>\n",
       "      <td>2.668000e+03</td>\n",
       "      <td>Age of Empires Online</td>\n",
       "      <td>Strategy</td>\n",
       "      <td>16.0</td>\n",
       "      <td>7</td>\n",
       "      <td>Germany</td>\n",
       "      <td>1264.00</td>\n",
       "      <td>2011</td>\n",
       "    </tr>\n",
       "  </tbody>\n",
       "</table>\n",
       "</div>"
      ],
      "text/plain": [
       "   IdNo    TotalMoney                  GameName          Genre  PlayerNo  \\\n",
       "0   613  3.100000e+02  Acceleration of SUGURI 2  Fighting Game       6.0   \n",
       "1   510  1.781295e+06            Age of Empires  Fighting Game      20.0   \n",
       "2   179  1.492490e+06         Age of Empires II       Strategy     956.0   \n",
       "3   177  6.811385e+04        Age of Empires III       Strategy     106.0   \n",
       "4   540  2.668000e+03     Age of Empires Online       Strategy      16.0   \n",
       "\n",
       "   TournamentNo    Top_Country  Top_Country_Earnings  Releaseyear  \n",
       "0             2  United States                310.00         2018  \n",
       "1            95       Viet Nam             123408.43         1997  \n",
       "2           576          China             174252.44         1999  \n",
       "3            76  United States              18523.52         2005  \n",
       "4             7        Germany               1264.00         2011  "
      ]
     },
     "execution_count": 24,
     "metadata": {},
     "output_type": "execute_result"
    }
   ],
   "source": [
    "data.head()"
   ]
  }
 ],
 "metadata": {
  "kernelspec": {
   "display_name": "Alif_002",
   "language": "python",
   "name": "alif_002"
  },
  "language_info": {
   "codemirror_mode": {
    "name": "ipython",
    "version": 3
   },
   "file_extension": ".py",
   "mimetype": "text/x-python",
   "name": "python",
   "nbconvert_exporter": "python",
   "pygments_lexer": "ipython3",
   "version": "3.10.7"
  }
 },
 "nbformat": 4,
 "nbformat_minor": 5
}
