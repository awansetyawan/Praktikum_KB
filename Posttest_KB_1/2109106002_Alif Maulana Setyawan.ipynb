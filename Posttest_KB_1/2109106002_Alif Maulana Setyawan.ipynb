{
 "cells": [
  {
   "cell_type": "markdown",
   "metadata": {},
   "source": [
    "# Posttest 1 Script\n",
    "File .ipynb ini harus bisa dijalankan dalam virtual environment.\n",
    "**Jangan mengubah** apapun pada script ini. <br><br>\n",
    "Gunakan python versi 3.10.7"
   ]
  },
  {
   "cell_type": "markdown",
   "metadata": {},
   "source": [
    "### Import Package\n",
    "Library yang digunakan adalah:\n",
    "- numpy         ==> 1.21.3\n",
    "- pandas        ==> 1.4.3\n",
    "- matplotlib    ==> 3.6.0rc2\n",
    "- prettytable   ==> 3.2.0\n",
    "- regex         ==> 2021.9.24"
   ]
  },
  {
   "cell_type": "code",
   "execution_count": 1,
   "metadata": {},
   "outputs": [],
   "source": [
    "import numpy as np\n",
    "import pandas as pd\n",
    "import matplotlib.pyplot as plt\n",
    "import prettytable as prtl\n",
    "import re"
   ]
  },
  {
   "cell_type": "markdown",
   "metadata": {},
   "source": [
    "### Testing Function\n",
    "**Jangan diubah**"
   ]
  },
  {
   "cell_type": "code",
   "execution_count": 2,
   "metadata": {},
   "outputs": [],
   "source": [
    "def error_raise(key, value):\n",
    "    \"\"\"Validate the package and version is correct. JANGAN DIUBAH\n",
    "\n",
    "    Args:\n",
    "        key (string): key in the dictionary dict_envi_info\n",
    "        value (string): values from one of the information stored in dictionary\n",
    "\n",
    "    Raises:\n",
    "        EnvironmentError: show the user that the script is error\n",
    "    \"\"\"\n",
    "    if key == 'python' and value == 'Python 3.10.7':\n",
    "        return\n",
    "    elif key == 'numpy' and value == 'Version: 1.21.3':\n",
    "        return\n",
    "    elif key == 'pandas' and value == 'Version: 1.4.3':\n",
    "        return\n",
    "    elif key == 'matplotlib' and value == 'Version: 3.6.0rc2':\n",
    "        return\n",
    "    elif key == 'prettytable' and value == 'Version: 3.2.0':\n",
    "        return\n",
    "    elif key == 'regex' and value == 'Version: 2021.9.24':\n",
    "        return\n",
    "    raise EnvironmentError(f'{key} have the wrong version')"
   ]
  },
  {
   "cell_type": "markdown",
   "metadata": {},
   "source": [
    "### CMD in code command\n",
    "Bagian pengambilan informasi tentang environment kalian. <br>\n",
    "Biasanya lebih lama sedikit jalannya"
   ]
  },
  {
   "cell_type": "code",
   "execution_count": 3,
   "metadata": {},
   "outputs": [],
   "source": [
    "dict_envi_info = {}\n",
    "dict_envi_info['python']= !python --version\n",
    "dict_envi_info['numpy'] = !pip show numpy\n",
    "dict_envi_info['pandas'] = !pip show pandas\n",
    "dict_envi_info['matplotlib'] = !pip show matplotlib\n",
    "dict_envi_info['prettytable'] = !pip show prettytable\n",
    "dict_envi_info['regex'] = !pip show regex\n",
    "dict_envi_info['current directory'] = !cd"
   ]
  },
  {
   "cell_type": "markdown",
   "metadata": {},
   "source": [
    "### Testing Part\n",
    "**Jangan diubah**"
   ]
  },
  {
   "cell_type": "code",
   "execution_count": 4,
   "metadata": {},
   "outputs": [
    {
     "name": "stdout",
     "output_type": "stream",
     "text": [
      "1. python\n",
      "Python 3.10.7\n",
      "2. numpy\n",
      "Version: 1.21.3\n",
      "3. pandas\n",
      "Version: 1.4.3\n",
      "4. matplotlib\n",
      "Version: 3.6.0rc2\n",
      "5. prettytable\n",
      "Version: 3.2.0\n",
      "6. regex\n",
      "Version: 2021.9.24\n",
      "7. current directory\n",
      "C:\\Users\\Asus Gk\\Documents\\1. Kuliah\\3. Semester 3\\1. Praktikum\\Kecerdasan Buatan\\venv_A1-21\\Alif_002\n"
     ]
    }
   ],
   "source": [
    "temp_b = 1\n",
    "for keys, values in dict_envi_info.items():\n",
    "    print(f'{temp_b}. {keys}')\n",
    "    temp_b+=1\n",
    "    \n",
    "    for index, value in enumerate(values):\n",
    "        if temp_b == 2:\n",
    "            print(f'{value}')\n",
    "            error_raise(keys, value)\n",
    "        elif re.match(r'^Version', value) is not None:\n",
    "            print(f'{value}')\n",
    "            error_raise(keys, value)\n",
    "        elif keys == 'current directory':\n",
    "            print(f'{value}')"
   ]
  },
  {
   "cell_type": "markdown",
   "metadata": {},
   "source": [
    "### Cek Part\n",
    "Tempat kalian melihat detail envi yang digunakan"
   ]
  },
  {
   "cell_type": "code",
   "execution_count": 5,
   "metadata": {},
   "outputs": [
    {
     "name": "stdout",
     "output_type": "stream",
     "text": [
      "1. python\n",
      "2. numpy\n",
      "3. pandas\n",
      "4. matplotlib\n",
      "5. prettytable\n",
      "6. regex\n",
      "\t Name: regex\n",
      "\t Version: 2021.9.24\n",
      "\t Summary: Alternative regular expression module, to replace re.\n",
      "\t Home-page: https://bitbucket.org/mrabarnett/mrab-regex\n",
      "\t Author: Matthew Barnett\n",
      "\t Author-email: regex@mrabarnett.plus.com\n",
      "\t License: Apache Software License\n",
      "\t Location: c:\\users\\asus gk\\documents\\1. kuliah\\3. semester 3\\1. praktikum\\kecerdasan buatan\\venv_a1-21\\alif_002\\lib\\site-packages\n",
      "\t Requires: \n",
      "\t Required-by: \n",
      "7. current directory\n"
     ]
    }
   ],
   "source": [
    "temp_a = 1\n",
    "key_cek = 'regex'   # bagian apa yang ingin dicek\n",
    "for key, values in dict_envi_info.items():\n",
    "    print(f'{temp_a}. {key}')\n",
    "    temp_a+=1\n",
    "    if key != key_cek:\n",
    "        continue\n",
    "    for value in values:\n",
    "        print('\\t', value)"
   ]
  },
  {
   "cell_type": "code",
   "execution_count": null,
   "metadata": {},
   "outputs": [],
   "source": []
  }
 ],
 "metadata": {
  "kernelspec": {
   "display_name": "Alif_002",
   "language": "python",
   "name": "alif_002"
  },
  "language_info": {
   "codemirror_mode": {
    "name": "ipython",
    "version": 3
   },
   "file_extension": ".py",
   "mimetype": "text/x-python",
   "name": "python",
   "nbconvert_exporter": "python",
   "pygments_lexer": "ipython3",
   "version": "3.10.7"
  },
  "vscode": {
   "interpreter": {
    "hash": "118d2d70b9837ec74e99cd8e271bd7c1e24309015268c38b027840ab45e80ec0"
   }
  }
 },
 "nbformat": 4,
 "nbformat_minor": 4
}
