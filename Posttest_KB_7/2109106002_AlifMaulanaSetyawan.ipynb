{
 "cells": [
  {
   "cell_type": "markdown",
   "id": "a7bd0f0d-90e3-407d-8c7d-7bd0c23f4ffb",
   "metadata": {},
   "source": [
    "# Posttest 7"
   ]
  },
  {
   "cell_type": "markdown",
   "id": "a72bbdf3-9e94-4131-a9ab-3033f4b03a93",
   "metadata": {},
   "source": [
    "<pre>Nama  : Alif Maulana Setyawan\n",
    "NIM   : 2109106002\n",
    "Kelas : A1 Informatika 2021"
   ]
  },
  {
   "cell_type": "code",
   "execution_count": 1,
   "id": "66d612b1-2da0-4335-8b59-8ca8ba62e260",
   "metadata": {},
   "outputs": [],
   "source": [
    "import tensorflow as tf"
   ]
  },
  {
   "cell_type": "markdown",
   "id": "adfa43a5-4d07-4acf-ae70-de4b898ac4ec",
   "metadata": {},
   "source": [
    " ### 1. Tensor dengan `shape(5,5)` dengan `nilai random` yang disimpan dalam variable `random_tensor`."
   ]
  },
  {
   "cell_type": "code",
   "execution_count": 2,
   "id": "7f9dce5c-07f8-4f53-97ca-de39e635d252",
   "metadata": {},
   "outputs": [
    {
     "data": {
      "text/plain": [
       "array([[-0.8113182 ,  1.4845988 ,  0.06532937, -2.4427042 ,  0.0992484 ],\n",
       "       [ 0.5912243 ,  0.59282297, -2.1229296 , -0.72289723, -0.05627038],\n",
       "       [ 0.6435448 , -0.26432407,  1.8566332 ,  0.5678417 , -0.3828359 ],\n",
       "       [-1.4853433 ,  1.2617711 , -0.02530608, -0.2646297 ,  1.5328138 ],\n",
       "       [-1.7429771 , -0.43789294, -0.56601   ,  0.32066926,  1.132831  ]],\n",
       "      dtype=float32)"
      ]
     },
     "execution_count": 2,
     "metadata": {},
     "output_type": "execute_result"
    }
   ],
   "source": [
    "random_tensor = tf.random.normal([5,5], seed=1)\n",
    "random_tensor.numpy()"
   ]
  },
  {
   "cell_type": "markdown",
   "id": "cbe13612-f534-4b48-b13a-edfb6612aaac",
   "metadata": {},
   "source": [
    "### 2. Tensor dengan `shape(5,5)` dari sebuah `list` dengan nilai `bilangan prima` dalam variable `prime_tensor`."
   ]
  },
  {
   "cell_type": "code",
   "execution_count": 3,
   "id": "a2643da9-6695-4c3c-8216-d5cb0fd8afc5",
   "metadata": {
    "tags": []
   },
   "outputs": [
    {
     "data": {
      "text/plain": [
       "array([[  2.,   3.,   5.,   7.,  11.],\n",
       "       [ 13.,  17.,  19.,  23.,  29.],\n",
       "       [ 31.,  37.,  41.,  43.,  47.],\n",
       "       [ 53.,  59.,  61.,  71.,  73.],\n",
       "       [ 79.,  83.,  89.,  97., 101.]], dtype=float32)"
      ]
     },
     "execution_count": 3,
     "metadata": {},
     "output_type": "execute_result"
    }
   ],
   "source": [
    "prime_tensor = tf.constant([2, 3, 5, 7, 11, 13, 17, 19, 23, 29, 31, 37, 41, 43, 47, 53, 59, 61,\n",
    "                            71, 73, 79, 83, 89, 97, 101], shape=(5,5), dtype=tf.float32)\n",
    "\n",
    "prime_tensor.numpy()"
   ]
  },
  {
   "cell_type": "markdown",
   "id": "75c9a028-03e8-4f49-a402-872f48b267dc",
   "metadata": {
    "tags": []
   },
   "source": [
    "### 3. `Dimensi` dari kedua variable tersebut."
   ]
  },
  {
   "cell_type": "code",
   "execution_count": 4,
   "id": "08439e49-b3c2-4071-81d4-a8e4e0f78a05",
   "metadata": {},
   "outputs": [
    {
     "name": "stdout",
     "output_type": "stream",
     "text": [
      "Dimensi dari random_tensor:  (5, 5)\n",
      "Dimensi dari prime_tensor:  (5, 5)\n"
     ]
    }
   ],
   "source": [
    "print('Dimensi dari random_tensor: ', random_tensor.shape)\n",
    "print('Dimensi dari prime_tensor: ', prime_tensor.shape)"
   ]
  },
  {
   "cell_type": "code",
   "execution_count": 5,
   "id": "b9b965e6-cea4-4f2e-8708-1c3c80aba78e",
   "metadata": {},
   "outputs": [
    {
     "name": "stdout",
     "output_type": "stream",
     "text": [
      "Shape random_tensor:\n"
     ]
    },
    {
     "data": {
      "text/plain": [
       "<tf.Tensor: shape=(2,), dtype=int32, numpy=array([5, 5])>"
      ]
     },
     "execution_count": 5,
     "metadata": {},
     "output_type": "execute_result"
    }
   ],
   "source": [
    "dim_display_random = tf.constant(['random_tensor'], shape=[5,5])\n",
    "dim_display_random.shape\n",
    "\n",
    "print('Shape random_tensor:')\n",
    "tf.shape(dim_display_random)"
   ]
  },
  {
   "cell_type": "code",
   "execution_count": 6,
   "id": "a95926dc-594b-4a3e-b9ed-f7e8c65bf039",
   "metadata": {},
   "outputs": [
    {
     "name": "stdout",
     "output_type": "stream",
     "text": [
      "Shape prime_tensor:\n"
     ]
    },
    {
     "data": {
      "text/plain": [
       "<tf.Tensor: shape=(2,), dtype=int32, numpy=array([5, 5])>"
      ]
     },
     "execution_count": 6,
     "metadata": {},
     "output_type": "execute_result"
    }
   ],
   "source": [
    "dim_display_prime = tf.constant(['prime_tensor'], shape=[5,5])\n",
    "dim_display_prime.shape\n",
    "\n",
    "print('Shape prime_tensor:')\n",
    "tf.shape(dim_display_prime)"
   ]
  },
  {
   "cell_type": "markdown",
   "id": "0b511f42-2704-4101-ba2d-83872d553082",
   "metadata": {},
   "source": [
    "### 4. Menampilkan hasil dari `perhitungan aritmetika` 2 variable tersebut (Menggunakan minimal 5 operator)."
   ]
  },
  {
   "cell_type": "code",
   "execution_count": 7,
   "id": "2fc58777-ba9f-493f-892f-15972f5b0c80",
   "metadata": {},
   "outputs": [
    {
     "name": "stdout",
     "output_type": "stream",
     "text": [
      "Penjumlahan:\n",
      "\n",
      " [[  1.1886818   4.4845986   5.0653296   4.557296   11.099248 ]\n",
      " [ 13.591225   17.592823   16.877071   22.277103   28.94373  ]\n",
      " [ 31.643545   36.735676   42.856632   43.56784    46.617165 ]\n",
      " [ 51.514656   60.261772   60.974693   70.73537    74.532814 ]\n",
      " [ 77.25702    82.5621     88.43399    97.32067   102.13283  ]]\n"
     ]
    }
   ],
   "source": [
    "print(\"Penjumlahan:\\n\\n\",\n",
    "tf.add(random_tensor, prime_tensor).numpy())"
   ]
  },
  {
   "cell_type": "code",
   "execution_count": 8,
   "id": "26029209-f40d-45f3-8f3a-e806f308b2b9",
   "metadata": {},
   "outputs": [
    {
     "name": "stdout",
     "output_type": "stream",
     "text": [
      "Pengurangan:\n",
      "\n",
      " [[ -2.8113182  -1.5154012  -4.9346704  -9.442704  -10.900752 ]\n",
      " [-12.408775  -16.407177  -21.122929  -23.722897  -29.05627  ]\n",
      " [-30.356455  -37.264324  -39.143368  -42.43216   -47.382835 ]\n",
      " [-54.485344  -57.738228  -61.025307  -71.26463   -71.467186 ]\n",
      " [-80.74298   -83.4379    -89.56601   -96.67933   -99.86717  ]]\n"
     ]
    }
   ],
   "source": [
    "print(\"Pengurangan:\\n\\n\", \n",
    "tf.subtract(random_tensor, prime_tensor).numpy())"
   ]
  },
  {
   "cell_type": "code",
   "execution_count": 9,
   "id": "b6f20161-9e88-4f09-8510-0606f18e9342",
   "metadata": {},
   "outputs": [
    {
     "name": "stdout",
     "output_type": "stream",
     "text": [
      "Perkalian:\n",
      "\n",
      " [[  -1.6226364     4.4537964     0.32664686  -17.09893       1.0917324 ]\n",
      " [   7.685916     10.077991    -40.335663    -16.626637     -1.6318411 ]\n",
      " [  19.949888     -9.77999      76.12196      24.417194    -17.993286  ]\n",
      " [ -78.7232       74.444496     -1.5436709   -18.788708    111.89541   ]\n",
      " [-137.69519     -36.345116    -50.37489      31.10492     114.41593   ]]\n"
     ]
    }
   ],
   "source": [
    "print(\"Perkalian:\\n\\n\",\n",
    "tf.multiply(random_tensor, prime_tensor).numpy())"
   ]
  },
  {
   "cell_type": "code",
   "execution_count": 10,
   "id": "5e5f0949-71bc-4c35-9178-9384654fbca2",
   "metadata": {},
   "outputs": [
    {
     "name": "stdout",
     "output_type": "stream",
     "text": [
      "Pembagian:\n",
      "\n",
      " [[-4.0565911e-01  4.9486625e-01  1.3065875e-02 -3.4895775e-01\n",
      "   9.0225823e-03]\n",
      " [ 4.5478795e-02  3.4871940e-02 -1.1173314e-01 -3.1430315e-02\n",
      "  -1.9403580e-03]\n",
      " [ 2.0759510e-02 -7.1438937e-03  4.5283735e-02  1.3205621e-02\n",
      "  -8.1454450e-03]\n",
      " [-2.8025346e-02  2.1385951e-02 -4.1485377e-04 -3.7271788e-03\n",
      "   2.0997450e-02]\n",
      " [-2.2063002e-02 -5.2758185e-03 -6.3596629e-03  3.3058687e-03\n",
      "   1.1216149e-02]]\n"
     ]
    }
   ],
   "source": [
    "print(\"Pembagian:\\n\\n\",\n",
    "tf.divide(random_tensor, prime_tensor).numpy())"
   ]
  },
  {
   "cell_type": "code",
   "execution_count": 11,
   "id": "f4647d78-88ff-4f3e-8116-a6fac1340d32",
   "metadata": {},
   "outputs": [
    {
     "name": "stdout",
     "output_type": "stream",
     "text": [
      "Pemangkatan:\n",
      "\n",
      " [[ 6.58237278e-01  3.27210546e+00  1.18998764e-06 -5.18914917e+02\n",
      "   9.20362137e-12]\n",
      " [ 1.07839960e-03  1.37951167e-04 -1.62845650e+06 -5.73800469e-04\n",
      "  -5.72948387e-37]\n",
      " [ 1.16397109e-06 -4.15966456e-22  1.04176673e+11  2.70254808e-11\n",
      "  -2.52112615e-20]\n",
      " [-1.27886054e+09  9.07514625e+05 -0.00000000e+00 -0.00000000e+00\n",
      "   3.47317018e+13]\n",
      " [-1.15356923e+19 -1.71214119e-30 -1.00310215e-22  0.00000000e+00\n",
      "   2.95581156e+05]]\n"
     ]
    }
   ],
   "source": [
    "print(\"Pemangkatan:\\n\\n\",\n",
    "tf.pow(random_tensor, prime_tensor).numpy())"
   ]
  },
  {
   "cell_type": "markdown",
   "id": "4fdd8107-465f-4552-a8f7-b541c4be6463",
   "metadata": {},
   "source": [
    "### 5. Menampilkan nilai `maksimum` dan `minimum` dari variable `random_tensor`."
   ]
  },
  {
   "cell_type": "markdown",
   "id": "1bf3276a-2ae1-40c3-ac2b-0699211ae2f2",
   "metadata": {},
   "source": [
    "#### a) Nilai Maksimum Perkolom"
   ]
  },
  {
   "cell_type": "code",
   "execution_count": 12,
   "id": "6d8d7883-d8c6-4feb-a740-8f28af2da735",
   "metadata": {},
   "outputs": [
    {
     "name": "stdout",
     "output_type": "stream",
     "text": [
      "Lokasi indeks dari nilai maksimum :  [2 0 2 2 3]\n",
      " Kolom: 0  dengan nilai : 0.6435447931289673\n",
      " Kolom: 1  dengan nilai : 1.4845987558364868\n",
      " Kolom: 2  dengan nilai : 1.856633186340332\n",
      " Kolom: 3  dengan nilai : 0.5678417086601257\n",
      " Kolom: 4  dengan nilai : 1.5328137874603271\n"
     ]
    }
   ],
   "source": [
    "max_random_tensor1 = tf.argmax(random_tensor, axis = 0)\n",
    "print(\"Lokasi indeks dari nilai maksimum : \", max_random_tensor1.numpy())\n",
    "\n",
    "for i, x in enumerate(max_random_tensor1):\n",
    "    print(f' Kolom: {i}  dengan nilai : {random_tensor[x, i]}')"
   ]
  },
  {
   "cell_type": "markdown",
   "id": "e9a97cf8-4d9a-4ca1-bdff-6d8b63b27aaf",
   "metadata": {},
   "source": [
    "#### b) Nilai Maksimum Perbaris"
   ]
  },
  {
   "cell_type": "code",
   "execution_count": 13,
   "id": "414c826f-0577-45c8-ba5c-f07daba8d860",
   "metadata": {},
   "outputs": [
    {
     "name": "stdout",
     "output_type": "stream",
     "text": [
      "Lokasi indeks dari nilai maksimum :  [1 1 2 4 4]\n",
      " Baris: 0  dengan nilai : 0.5912243127822876\n",
      " Baris: 1  dengan nilai : 0.5928229689598083\n",
      " Baris: 2  dengan nilai : 1.856633186340332\n",
      " Baris: 3  dengan nilai : 0.3206692636013031\n",
      " Baris: 4  dengan nilai : 1.1328309774398804\n"
     ]
    }
   ],
   "source": [
    "max_random_tensor2 = tf.argmax(random_tensor, axis = 1)\n",
    "print(\"Lokasi indeks dari nilai maksimum : \", max_random_tensor2.numpy())\n",
    "\n",
    "for i, x in enumerate(max_random_tensor2):\n",
    "    print(f' Baris: {i}  dengan nilai : {random_tensor[x, i]}')"
   ]
  },
  {
   "cell_type": "markdown",
   "id": "f15d320b-194c-4547-8ad0-f1992a545032",
   "metadata": {},
   "source": [
    "#### c) Nilai Minimum Perkolom"
   ]
  },
  {
   "cell_type": "code",
   "execution_count": 14,
   "id": "247bd2e3-6d6e-44d0-bcf6-7e16a5269689",
   "metadata": {},
   "outputs": [
    {
     "name": "stdout",
     "output_type": "stream",
     "text": [
      "Lokasi indeks dari nilai minimum :  [4 4 1 0 2]\n",
      " Kolom: 0  dengan nilai : -1.7429771423339844\n",
      " Kolom: 1  dengan nilai : -0.43789294362068176\n",
      " Kolom: 2  dengan nilai : -2.122929573059082\n",
      " Kolom: 3  dengan nilai : -2.442704200744629\n",
      " Kolom: 4  dengan nilai : -0.38283589482307434\n"
     ]
    }
   ],
   "source": [
    "min_random_tensor1 = tf.argmin(random_tensor, axis = 0)\n",
    "print(\"Lokasi indeks dari nilai minimum : \", min_random_tensor1.numpy())\n",
    "\n",
    "for i, x in enumerate(min_random_tensor1):\n",
    "    print(f' Kolom: {i}  dengan nilai : {random_tensor[x, i]}')"
   ]
  },
  {
   "cell_type": "markdown",
   "id": "08d0e78a-b401-4eff-84b1-640cf002b0c2",
   "metadata": {},
   "source": [
    "#### d) Nilai Minimum Perbaris"
   ]
  },
  {
   "cell_type": "code",
   "execution_count": 15,
   "id": "648a9c38-9497-4fff-8a05-e043a4a2899a",
   "metadata": {},
   "outputs": [
    {
     "name": "stdout",
     "output_type": "stream",
     "text": [
      "Lokasi indeks dari nilai minimum :  [3 2 4 0 0]\n",
      " Baris: 0  dengan nilai : -1.485343337059021\n",
      " Baris: 1  dengan nilai : -0.2643240690231323\n",
      " Baris: 2  dengan nilai : -0.5660099983215332\n",
      " Baris: 3  dengan nilai : -2.442704200744629\n",
      " Baris: 4  dengan nilai : 0.09924840182065964\n"
     ]
    }
   ],
   "source": [
    "min_random_tensor2 = tf.argmin(random_tensor, axis = 1)\n",
    "print(\"Lokasi indeks dari nilai minimum : \", min_random_tensor2.numpy())\n",
    "\n",
    "for i, x in enumerate(min_random_tensor2):\n",
    "    print(f' Baris: {i}  dengan nilai : {random_tensor[x, i]}')"
   ]
  },
  {
   "cell_type": "markdown",
   "id": "042b4dd3-9d8b-4a83-b1de-bc36d8d15eba",
   "metadata": {},
   "source": [
    "### 6. Menampilkan `hasil` dari `penggabungan` variable `random_tensor` dengan `prime_tensor` `(concatenation)`"
   ]
  },
  {
   "cell_type": "markdown",
   "id": "31a5095f-bfaa-401b-9899-e6bfb8c63441",
   "metadata": {},
   "source": [
    "#### a) Concat axis 0"
   ]
  },
  {
   "cell_type": "code",
   "execution_count": 16,
   "id": "944675a4-8136-4d03-941f-e5b895fe23fe",
   "metadata": {},
   "outputs": [
    {
     "data": {
      "text/plain": [
       "array([[-8.1131822e-01,  1.4845988e+00,  6.5329373e-02, -2.4427042e+00,\n",
       "         9.9248402e-02],\n",
       "       [ 5.9122431e-01,  5.9282297e-01, -2.1229296e+00, -7.2289723e-01,\n",
       "        -5.6270380e-02],\n",
       "       [ 6.4354479e-01, -2.6432407e-01,  1.8566332e+00,  5.6784171e-01,\n",
       "        -3.8283589e-01],\n",
       "       [-1.4853433e+00,  1.2617711e+00, -2.5306080e-02, -2.6462969e-01,\n",
       "         1.5328138e+00],\n",
       "       [-1.7429771e+00, -4.3789294e-01, -5.6601000e-01,  3.2066926e-01,\n",
       "         1.1328310e+00],\n",
       "       [ 2.0000000e+00,  3.0000000e+00,  5.0000000e+00,  7.0000000e+00,\n",
       "         1.1000000e+01],\n",
       "       [ 1.3000000e+01,  1.7000000e+01,  1.9000000e+01,  2.3000000e+01,\n",
       "         2.9000000e+01],\n",
       "       [ 3.1000000e+01,  3.7000000e+01,  4.1000000e+01,  4.3000000e+01,\n",
       "         4.7000000e+01],\n",
       "       [ 5.3000000e+01,  5.9000000e+01,  6.1000000e+01,  7.1000000e+01,\n",
       "         7.3000000e+01],\n",
       "       [ 7.9000000e+01,  8.3000000e+01,  8.9000000e+01,  9.7000000e+01,\n",
       "         1.0100000e+02]], dtype=float32)"
      ]
     },
     "execution_count": 16,
     "metadata": {},
     "output_type": "execute_result"
    }
   ],
   "source": [
    "concat1 = tf.concat([random_tensor, prime_tensor], axis=0)\n",
    "concat1.numpy()"
   ]
  },
  {
   "cell_type": "markdown",
   "id": "6799d8e6-4dce-4427-87b3-ca126bf70111",
   "metadata": {},
   "source": [
    "#### b) Concat axis 1"
   ]
  },
  {
   "cell_type": "code",
   "execution_count": 17,
   "id": "2aed2cf0-b3c4-4329-baa0-06a70bedd12d",
   "metadata": {},
   "outputs": [
    {
     "data": {
      "text/plain": [
       "array([[-8.1131822e-01,  1.4845988e+00,  6.5329373e-02, -2.4427042e+00,\n",
       "         9.9248402e-02,  2.0000000e+00,  3.0000000e+00,  5.0000000e+00,\n",
       "         7.0000000e+00,  1.1000000e+01],\n",
       "       [ 5.9122431e-01,  5.9282297e-01, -2.1229296e+00, -7.2289723e-01,\n",
       "        -5.6270380e-02,  1.3000000e+01,  1.7000000e+01,  1.9000000e+01,\n",
       "         2.3000000e+01,  2.9000000e+01],\n",
       "       [ 6.4354479e-01, -2.6432407e-01,  1.8566332e+00,  5.6784171e-01,\n",
       "        -3.8283589e-01,  3.1000000e+01,  3.7000000e+01,  4.1000000e+01,\n",
       "         4.3000000e+01,  4.7000000e+01],\n",
       "       [-1.4853433e+00,  1.2617711e+00, -2.5306080e-02, -2.6462969e-01,\n",
       "         1.5328138e+00,  5.3000000e+01,  5.9000000e+01,  6.1000000e+01,\n",
       "         7.1000000e+01,  7.3000000e+01],\n",
       "       [-1.7429771e+00, -4.3789294e-01, -5.6601000e-01,  3.2066926e-01,\n",
       "         1.1328310e+00,  7.9000000e+01,  8.3000000e+01,  8.9000000e+01,\n",
       "         9.7000000e+01,  1.0100000e+02]], dtype=float32)"
      ]
     },
     "execution_count": 17,
     "metadata": {},
     "output_type": "execute_result"
    }
   ],
   "source": [
    "concat2 = tf.concat([random_tensor, prime_tensor], axis=1)\n",
    "concat2.numpy()"
   ]
  },
  {
   "cell_type": "markdown",
   "id": "8c0d3fc9-8483-40e1-8209-d09ca805f4ce",
   "metadata": {},
   "source": [
    "### 7. Menampilkan `hasil sorting` dari kedua variable di atas `(descending)`"
   ]
  },
  {
   "cell_type": "markdown",
   "id": "d843f30a-91ca-444e-839a-efd34d98dee8",
   "metadata": {},
   "source": [
    "#### a) Sorting Descending random_tensor"
   ]
  },
  {
   "cell_type": "code",
   "execution_count": 18,
   "id": "784c6141-6161-466c-8222-63fba9224217",
   "metadata": {},
   "outputs": [
    {
     "name": "stdout",
     "output_type": "stream",
     "text": [
      "tf.Tensor(\n",
      "[[ 1.4845988   0.0992484   0.06532937 -0.8113182  -2.4427042 ]\n",
      " [ 0.59282297  0.5912243  -0.05627038 -0.72289723 -2.1229296 ]\n",
      " [ 1.8566332   0.6435448   0.5678417  -0.26432407 -0.3828359 ]\n",
      " [ 1.5328138   1.2617711  -0.02530608 -0.2646297  -1.4853433 ]\n",
      " [ 1.132831    0.32066926 -0.43789294 -0.56601    -1.7429771 ]], shape=(5, 5), dtype=float32)\n"
     ]
    }
   ],
   "source": [
    "sort_random = tf.sort(random_tensor, direction=\"DESCENDING\")\n",
    "print(sort_random)"
   ]
  },
  {
   "cell_type": "markdown",
   "id": "be2a3c99-43ff-42bd-be7e-88eac73dfad1",
   "metadata": {},
   "source": [
    "#### b) Sorting Descending prime_tensor"
   ]
  },
  {
   "cell_type": "code",
   "execution_count": 19,
   "id": "b2986e2a-3167-434e-9fdb-246abe2391e4",
   "metadata": {},
   "outputs": [
    {
     "name": "stdout",
     "output_type": "stream",
     "text": [
      "tf.Tensor(\n",
      "[[ 11.   7.   5.   3.   2.]\n",
      " [ 29.  23.  19.  17.  13.]\n",
      " [ 47.  43.  41.  37.  31.]\n",
      " [ 73.  71.  61.  59.  53.]\n",
      " [101.  97.  89.  83.  79.]], shape=(5, 5), dtype=float32)\n"
     ]
    }
   ],
   "source": [
    "sort_prime = tf.sort(prime_tensor, direction=\"DESCENDING\")\n",
    "print(sort_prime)"
   ]
  }
 ],
 "metadata": {
  "kernelspec": {
   "display_name": "Alif_002",
   "language": "python",
   "name": "alif_002"
  },
  "language_info": {
   "codemirror_mode": {
    "name": "ipython",
    "version": 3
   },
   "file_extension": ".py",
   "mimetype": "text/x-python",
   "name": "python",
   "nbconvert_exporter": "python",
   "pygments_lexer": "ipython3",
   "version": "3.10.7"
  }
 },
 "nbformat": 4,
 "nbformat_minor": 5
}
