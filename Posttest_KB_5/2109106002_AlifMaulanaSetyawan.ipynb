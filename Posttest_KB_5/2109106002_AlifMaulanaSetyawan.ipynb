{
 "cells": [
  {
   "cell_type": "markdown",
   "id": "8bc0d55c-6580-43e2-8d2d-11c41394c33f",
   "metadata": {},
   "source": [
    "# Posttest 5"
   ]
  },
  {
   "cell_type": "markdown",
   "id": "a185bfb9-0e69-4ce2-b552-f28e4e7ae3e4",
   "metadata": {},
   "source": [
    "<pre>Nama  : Alif Maulana Setyawan\n",
    "NIM   : 2109106002\n",
    "Kelas : A1 Informatika 2021"
   ]
  },
  {
   "cell_type": "markdown",
   "id": "0b4d91df-ad57-4111-82f3-b705f324ee8e",
   "metadata": {},
   "source": [
    "Saya memilih `classification` dengan menggunakan 4 Algoritma yaitu `K-Nearest Neighbour`, `Naive Bayes`, `Decision Tree`, dan `Support Vector Machine`. Maka saya menampilkan `score pendekatan`."
   ]
  },
  {
   "cell_type": "markdown",
   "id": "a9118003-a7c5-4d83-a077-e739f4f47097",
   "metadata": {},
   "source": [
    "### Import Library"
   ]
  },
  {
   "cell_type": "code",
   "execution_count": 1,
   "id": "66439c46-00e7-40a8-a061-58113306b348",
   "metadata": {},
   "outputs": [],
   "source": [
    "import pandas as pd\n",
    "import numpy as np\n",
    "import matplotlib.pyplot as plt\n",
    "\n",
    "from sklearn.preprocessing import OrdinalEncoder\n",
    "from sklearn.preprocessing import StandardScaler\n",
    "\n",
    "from sklearn.model_selection import train_test_split"
   ]
  },
  {
   "cell_type": "markdown",
   "id": "3a889ce1-a032-4274-b199-72bdae83baac",
   "metadata": {},
   "source": [
    "### Info Data"
   ]
  },
  {
   "cell_type": "code",
   "execution_count": 2,
   "id": "d1642e7f-0a85-4466-acab-583269e025aa",
   "metadata": {},
   "outputs": [
    {
     "name": "stdout",
     "output_type": "stream",
     "text": [
      "<class 'pandas.core.frame.DataFrame'>\n",
      "RangeIndex: 10000 entries, 0 to 9999\n",
      "Data columns (total 12 columns):\n",
      " #   Column            Non-Null Count  Dtype  \n",
      "---  ------            --------------  -----  \n",
      " 0   customer_id       10000 non-null  int64  \n",
      " 1   credit_score      10000 non-null  int64  \n",
      " 2   country           10000 non-null  object \n",
      " 3   gender            10000 non-null  object \n",
      " 4   age               10000 non-null  int64  \n",
      " 5   tenure            10000 non-null  int64  \n",
      " 6   balance           10000 non-null  float64\n",
      " 7   products_number   10000 non-null  int64  \n",
      " 8   credit_card       10000 non-null  int64  \n",
      " 9   active_member     10000 non-null  int64  \n",
      " 10  estimated_salary  10000 non-null  float64\n",
      " 11  churn             10000 non-null  int64  \n",
      "dtypes: float64(2), int64(8), object(2)\n",
      "memory usage: 937.6+ KB\n"
     ]
    }
   ],
   "source": [
    "data = pd.read_csv(\"Bank_Customer_Churn_Prediction.csv\")\n",
    "\n",
    "data.info()"
   ]
  },
  {
   "cell_type": "markdown",
   "id": "157d637a-a715-4476-a8f6-b462ef0b13f8",
   "metadata": {},
   "source": [
    "Dataset tidak memiliki nilai `NULL`"
   ]
  },
  {
   "cell_type": "code",
   "execution_count": 3,
   "id": "42cabac2-d367-4d49-ae38-31de40c5f27a",
   "metadata": {},
   "outputs": [
    {
     "data": {
      "text/plain": [
       "customer_id         0\n",
       "credit_score        0\n",
       "country             0\n",
       "gender              0\n",
       "age                 0\n",
       "tenure              0\n",
       "balance             0\n",
       "products_number     0\n",
       "credit_card         0\n",
       "active_member       0\n",
       "estimated_salary    0\n",
       "churn               0\n",
       "dtype: int64"
      ]
     },
     "execution_count": 3,
     "metadata": {},
     "output_type": "execute_result"
    }
   ],
   "source": [
    "data.isna().sum()"
   ]
  },
  {
   "cell_type": "markdown",
   "id": "e3f0bafc-a48c-4fa5-a431-ab5f0a9a12a1",
   "metadata": {},
   "source": [
    "### Melihat Data Unik pada dataset"
   ]
  },
  {
   "cell_type": "markdown",
   "id": "b9f62892-aa8c-4e14-ad67-8e23908bb384",
   "metadata": {},
   "source": [
    "Agar mengetahui `data unik yang terdapat pada suatu kolom`."
   ]
  },
  {
   "cell_type": "code",
   "execution_count": 4,
   "id": "7d723589-a1d5-4658-902b-5bb68048d4cb",
   "metadata": {},
   "outputs": [
    {
     "name": "stdout",
     "output_type": "stream",
     "text": [
      "['France' 'Spain' 'Germany']\n"
     ]
    }
   ],
   "source": [
    "print(data.country.unique())"
   ]
  },
  {
   "cell_type": "markdown",
   "id": "fb1eb3a0-96d5-48eb-b0c1-5ded2d5ff194",
   "metadata": {},
   "source": [
    "### Standarisasi dan Encoding"
   ]
  },
  {
   "cell_type": "markdown",
   "id": "21d2e2a5-994f-4e20-96d2-4c977ba2da9a",
   "metadata": {},
   "source": [
    "1) Melakukan `standarisasi` agar data dari kolom yang diambil dapat dihitung dengan skala yang sama. <br>\n",
    "2) Melakukan `Encoding` agar data kategorikal dapat di rubah menjadi data numeric sehingga dapat dihitung."
   ]
  },
  {
   "cell_type": "code",
   "execution_count": 5,
   "id": "331abce4-3d77-4b7e-a981-4ba7edcc3f50",
   "metadata": {},
   "outputs": [],
   "source": [
    "# Standarisasi\n",
    "ssc = StandardScaler()\n",
    "data[[\"age\", \"tenure\", \"products_number\", \"credit_card\", \"active_member\"]] = ssc.fit_transform(\n",
    "    data[[\"age\", \"tenure\", \"products_number\", \"credit_card\", \"active_member\"]])\n",
    "\n",
    "# Encoding\n",
    "encoder = OrdinalEncoder()\n",
    "data[[\"country\"]]=encoder.fit_transform(data[[\"country\"]])"
   ]
  },
  {
   "cell_type": "markdown",
   "id": "285ecdcc-22fd-4a14-be6f-6abe478f09a6",
   "metadata": {},
   "source": [
    "### Split Data"
   ]
  },
  {
   "cell_type": "markdown",
   "id": "de0d8e49-6684-4190-ab1d-3685caad7cc1",
   "metadata": {},
   "source": [
    "Melakukan `split data` guna membagi data training dan data test sebesar 70:30. dan data yang sebagai target adalah `churn`"
   ]
  },
  {
   "cell_type": "code",
   "execution_count": 6,
   "id": "2ea91850-1478-4165-9f0f-6c27708b8bda",
   "metadata": {},
   "outputs": [],
   "source": [
    "X = data[[\"country\", \"age\", \"tenure\", \"products_number\", \"credit_card\", \"active_member\"]]\n",
    "Y = data[\"churn\"]\n",
    "\n",
    "X_train, X_test, Y_train, Y_test = train_test_split(X, Y, test_size=0.3, random_state=0)"
   ]
  },
  {
   "cell_type": "code",
   "execution_count": 7,
   "id": "a7638877-719a-403d-9efb-ca34f7cb517c",
   "metadata": {},
   "outputs": [
    {
     "name": "stdout",
     "output_type": "stream",
     "text": [
      "Dimensi X_train : (7000, 6)\n",
      "Dimensi X_test : (3000, 6)\n",
      "Dimensi Y_train : (7000,)\n",
      "Dimensi Y_test : (3000,)\n"
     ]
    }
   ],
   "source": [
    "print(\"Dimensi X_train :\", X_train.shape)\n",
    "print(\"Dimensi X_test :\", X_test.shape)\n",
    "print(\"Dimensi Y_train :\", Y_train.shape)\n",
    "print(\"Dimensi Y_test :\", Y_test.shape)"
   ]
  },
  {
   "cell_type": "markdown",
   "id": "4aaaa6b8-5000-4054-9bdb-770e168f0b08",
   "metadata": {},
   "source": [
    "### Algoritma K-Nearest Neighbour"
   ]
  },
  {
   "cell_type": "code",
   "execution_count": 8,
   "id": "0e2c5063-4367-4dcd-902f-ee90aa6e57a0",
   "metadata": {},
   "outputs": [],
   "source": [
    "from sklearn.neighbors import KNeighborsClassifier\n",
    "from sklearn.metrics import accuracy_score\n",
    "\n",
    "model_KNN = KNeighborsClassifier(n_neighbors = 6).fit(X_train, Y_train)"
   ]
  },
  {
   "cell_type": "markdown",
   "id": "fd01a848-3b5c-4e58-a0c3-de30ae7f37bc",
   "metadata": {},
   "source": [
    "1) Akurasi Model KNN pada `Testing Set`"
   ]
  },
  {
   "cell_type": "code",
   "execution_count": 9,
   "id": "b1312bc3-5cd8-44a9-a6c9-7354ef901ec6",
   "metadata": {},
   "outputs": [
    {
     "data": {
      "text/plain": [
       "0.8463333333333334"
      ]
     },
     "execution_count": 9,
     "metadata": {},
     "output_type": "execute_result"
    }
   ],
   "source": [
    "model_KNN.score(X_test, Y_test)"
   ]
  },
  {
   "cell_type": "markdown",
   "id": "e6de7829-e960-4688-a71a-9c4264063b9c",
   "metadata": {},
   "source": [
    "2. Akurasi Model KNN pada `Training Set`"
   ]
  },
  {
   "cell_type": "code",
   "execution_count": 10,
   "id": "df0b07ac-697d-40a4-855d-a5f0c3aeb3c5",
   "metadata": {},
   "outputs": [
    {
     "data": {
      "text/plain": [
       "0.8695714285714286"
      ]
     },
     "execution_count": 10,
     "metadata": {},
     "output_type": "execute_result"
    }
   ],
   "source": [
    "model_KNN.score(X_train, Y_train)"
   ]
  },
  {
   "cell_type": "code",
   "execution_count": 11,
   "id": "01e8b81c-a26d-4c76-b596-df3365046311",
   "metadata": {},
   "outputs": [
    {
     "name": "stdout",
     "output_type": "stream",
     "text": [
      "Score Algoritma KNN :  84.63333333333334 %\n"
     ]
    }
   ],
   "source": [
    "predict_KNN = model_KNN.predict(X_test)\n",
    "print(\"Score Algoritma KNN : \", accuracy_score(Y_test, predict_KNN)*100,\"%\")"
   ]
  },
  {
   "cell_type": "markdown",
   "id": "bd0690ec-dc84-41d6-9ca1-856715d826bd",
   "metadata": {},
   "source": [
    "### Algoritma Naive Bayes"
   ]
  },
  {
   "cell_type": "code",
   "execution_count": 12,
   "id": "2d3e76f3-d08b-4829-99f9-101895a2e811",
   "metadata": {},
   "outputs": [
    {
     "name": "stdout",
     "output_type": "stream",
     "text": [
      "Score Algoritma Naive Bayes :  81.86666666666666 %\n"
     ]
    }
   ],
   "source": [
    "from sklearn.naive_bayes import GaussianNB\n",
    "\n",
    "model_GNB = GaussianNB().fit(X_train, Y_train)\n",
    "predict_GNB = model_GNB.predict(X_test)\n",
    "print(\"Score Algoritma Naive Bayes : \", accuracy_score(Y_test, predict_GNB)*100,\"%\")"
   ]
  },
  {
   "cell_type": "markdown",
   "id": "e00f8ccb-f53d-4870-a902-505042e2f962",
   "metadata": {},
   "source": [
    "### Algoritma Decision Tree"
   ]
  },
  {
   "cell_type": "code",
   "execution_count": 13,
   "id": "1d3cc9f0-81ae-4d27-87d6-899edafd8dfd",
   "metadata": {},
   "outputs": [
    {
     "name": "stdout",
     "output_type": "stream",
     "text": [
      "Score Algoritma Decision Tree :  80.30000000000001 %\n"
     ]
    }
   ],
   "source": [
    "from sklearn.tree import DecisionTreeClassifier\n",
    "\n",
    "model_Tree = DecisionTreeClassifier().fit(X_train, Y_train)\n",
    "predict_Tree = model_Tree.predict(X_test)\n",
    "print(\"Score Algoritma Decision Tree : \", accuracy_score(Y_test, predict_Tree)*100,\"%\")"
   ]
  },
  {
   "cell_type": "markdown",
   "id": "0bbbe177-67e0-4212-9234-691d1192c3f5",
   "metadata": {},
   "source": [
    "### Algoritma Support Vector Machine"
   ]
  },
  {
   "cell_type": "code",
   "execution_count": 14,
   "id": "b9f55afe-8c5e-4113-a946-e05031319c39",
   "metadata": {},
   "outputs": [
    {
     "name": "stdout",
     "output_type": "stream",
     "text": [
      "Score Algoritma SVM :  85.93333333333332 %\n"
     ]
    }
   ],
   "source": [
    "from sklearn.svm import SVC\n",
    "\n",
    "svm = SVC().fit(X_train, Y_train)\n",
    "predict_svm = svm.predict(X_test)\n",
    "print(\"Score Algoritma SVM : \", accuracy_score(Y_test, predict_svm)*100,\"%\")"
   ]
  },
  {
   "cell_type": "code",
   "execution_count": 15,
   "id": "9741cee4-e6b4-44ec-b23d-eec130e558d9",
   "metadata": {},
   "outputs": [
    {
     "name": "stdout",
     "output_type": "stream",
     "text": [
      "[[2321   58]\n",
      " [ 364  257]]\n",
      "              precision    recall  f1-score   support\n",
      "\n",
      "           0       0.86      0.98      0.92      2379\n",
      "           1       0.82      0.41      0.55       621\n",
      "\n",
      "    accuracy                           0.86      3000\n",
      "   macro avg       0.84      0.69      0.73      3000\n",
      "weighted avg       0.85      0.86      0.84      3000\n",
      "\n"
     ]
    }
   ],
   "source": [
    "from sklearn.metrics import confusion_matrix, classification_report\n",
    "\n",
    "print(confusion_matrix(Y_test, predict_svm))\n",
    "print(classification_report(Y_test, predict_svm))"
   ]
  }
 ],
 "metadata": {
  "kernelspec": {
   "display_name": "Alif_002",
   "language": "python",
   "name": "alif_002"
  },
  "language_info": {
   "codemirror_mode": {
    "name": "ipython",
    "version": 3
   },
   "file_extension": ".py",
   "mimetype": "text/x-python",
   "name": "python",
   "nbconvert_exporter": "python",
   "pygments_lexer": "ipython3",
   "version": "3.10.7"
  }
 },
 "nbformat": 4,
 "nbformat_minor": 5
}
